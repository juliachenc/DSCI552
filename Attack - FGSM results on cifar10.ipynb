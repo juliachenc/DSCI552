{
 "cells": [
  {
   "cell_type": "code",
   "execution_count": 1,
   "metadata": {},
   "outputs": [],
   "source": [
    "from art.utils import load_dataset\n",
    "from art.classifiers import TensorFlowV2Classifier\n",
    "from art.attacks.evasion import FastGradientMethod\n",
    "from art.defences.trainer import AdversarialTrainer\n",
    "from art.metrics import empirical_robustness\n",
    "\n",
    "import numpy as np\n",
    "import tensorflow as tf\n",
    "import matplotlib as mpl\n",
    "import matplotlib.pyplot as plt\n",
    "\n",
    "\n",
    "from keras.models import Sequential\n",
    "from keras.layers import Dense, Flatten, Conv2D, MaxPooling2D, Dropout"
   ]
  },
  {
   "cell_type": "markdown",
   "metadata": {},
   "source": [
    "# Loading hand writing dataset"
   ]
  },
  {
   "cell_type": "code",
   "execution_count": 2,
   "metadata": {},
   "outputs": [],
   "source": [
    "def exract_two_classes( data, labels, classes=(0,1), no_instance=10000):\n",
    "    data_zeroes = data[ np.argwhere( labels ==  classes[0] ).reshape( -1 ) ][ :no_instance ]\n",
    "    data_ones = data[ np.argwhere( labels == classes[1] ).reshape( -1 ) ][ :no_instance ]\n",
    "    x = np.vstack( (data_zeroes, data_ones) )\n",
    "    \n",
    "    # normalize the data\n",
    "    x = x / 255.\n",
    "\n",
    "    labels_zeroes = np.zeros( data_zeroes.shape[ 0 ] )\n",
    "    labels_ones = np.ones( data_ones.shape[ 0 ] )\n",
    "    y = np.append( labels_zeroes, labels_ones )\n",
    "\n",
    "    return x, y"
   ]
  },
  {
   "cell_type": "code",
   "execution_count": 3,
   "metadata": {},
   "outputs": [],
   "source": [
    "cifar10 = tf.keras.datasets.cifar10# Object of the MNIST dataset\n",
    "(x_train, y_train),(x_test, y_test) = cifar10.load_data() # Load data\n",
    "\n",
    "\n",
    "# extract ones and zeroes\n",
    "x_train, y_train = exract_two_classes( x_train, y_train )\n",
    "x_test, y_test = exract_two_classes( x_test, y_test )"
   ]
  },
  {
   "cell_type": "code",
   "execution_count": 4,
   "metadata": {},
   "outputs": [],
   "source": [
    "x_train = np.array(x_train).astype(\"float\")\n",
    "y_train = np.array(y_train).astype(\"float\")\n",
    "x_test = np.array(x_test).astype(\"float\")\n",
    "y_test = np.array(y_test).astype(\"float\")"
   ]
  },
  {
   "cell_type": "code",
   "execution_count": 5,
   "metadata": {},
   "outputs": [
    {
     "name": "stdout",
     "output_type": "stream",
     "text": [
      "Lengh of dimensions for x_train:  (20000, 32, 32, 3)\n",
      "Lengh of dimensions for y_train:  (20000,)\n",
      "Lengh of dimensions for x_test:  (4000, 32, 32, 3)\n",
      "Lengh of dimensions for y_test:  (4000,)\n"
     ]
    }
   ],
   "source": [
    "print(\"Lengh of dimensions for x_train: \", x_train.shape)\n",
    "print(\"Lengh of dimensions for y_train: \", y_train.shape)\n",
    "print(\"Lengh of dimensions for x_test: \", x_test.shape)\n",
    "print(\"Lengh of dimensions for y_test: \", y_test.shape)"
   ]
  },
  {
   "cell_type": "code",
   "execution_count": 6,
   "metadata": {},
   "outputs": [],
   "source": [
    "'''reshape'''\n",
    "x_train = x_train.reshape(-1,32,32,3)\n",
    "x_test = x_test.reshape(-1,32,32,3)"
   ]
  },
  {
   "cell_type": "code",
   "execution_count": 7,
   "metadata": {},
   "outputs": [
    {
     "data": {
      "image/png": "[encoded data removed]",
      "text/plain": [
       "<Figure size 720x360 with 10 Axes>"
      ]
     },
     "metadata": {
      "needs_background": "light"
     },
     "output_type": "display_data"
    }
   ],
   "source": [
    "n_classes = 10\n",
    "inds=np.array([y_train==i for i in range(n_classes)])\n",
    "f,ax=plt.subplots(2,5,figsize=(10,5))\n",
    "ax=ax.flatten()\n",
    "for i in range(n_classes):\n",
    "    ax[i].imshow(x_train[np.argmax(inds[i])])\n",
    "    ax[i].set_title(str(i))\n",
    "plt.show()"
   ]
  },
  {
   "cell_type": "markdown",
   "metadata": {},
   "source": [
    "# Simple fully-connected neural network with 2 hidden layers"
   ]
  },
  {
   "cell_type": "code",
   "execution_count": 8,
   "metadata": {},
   "outputs": [
    {
     "name": "stdout",
     "output_type": "stream",
     "text": [
      "Model: \"sequential\"\n",
      "_________________________________________________________________\n",
      "Layer (type)                 Output Shape              Param #   \n",
      "=================================================================\n",
      "conv2d (Conv2D)              (None, 30, 30, 20)        560       \n",
      "_________________________________________________________________\n",
      "max_pooling2d (MaxPooling2D) (None, 15, 15, 20)        0         \n",
      "_________________________________________________________________\n",
      "conv2d_1 (Conv2D)            (None, 13, 13, 20)        3620      \n",
      "_________________________________________________________________\n",
      "max_pooling2d_1 (MaxPooling2 (None, 6, 6, 20)          0         \n",
      "_________________________________________________________________\n",
      "flatten (Flatten)            (None, 720)               0         \n",
      "_________________________________________________________________\n",
      "dense (Dense)                (None, 500)               360500    \n",
      "_________________________________________________________________\n",
      "dense_1 (Dense)              (None, 10)                5010      \n",
      "=================================================================\n",
      "Total params: 369,690\n",
      "Trainable params: 369,690\n",
      "Non-trainable params: 0\n",
      "_________________________________________________________________\n"
     ]
    }
   ],
   "source": [
    "np.random.seed(44)\n",
    "model = tf.keras.Sequential([\n",
    "    # 1st convolution\n",
    "    tf.keras.layers.Conv2D(filters=20, kernel_size=(3,3), activation='relu', input_shape=(32,32,3)),\n",
    "    tf.keras.layers.MaxPool2D(pool_size=(2,2), strides=None, padding='valid'),\n",
    "    # 2nd convolution\n",
    "    tf.keras.layers.Conv2D(filters=20, kernel_size=(3,3), activation='relu'),\n",
    "    tf.keras.layers.MaxPool2D(pool_size=(2,2), strides=None, padding='valid'),\n",
    "    # dense\n",
    "    tf.keras.layers.Flatten(),\n",
    "    tf.keras.layers.Dense(500, activation='relu'),\n",
    "    tf.keras.layers.Dense(10, activation='softmax') \n",
    "])\n",
    "\n",
    "loss_object = tf.keras.losses.SparseCategoricalCrossentropy(from_logits=True)\n",
    "model.compile(optimizer='adam',\n",
    "              loss=loss_object,\n",
    "              metrics=['accuracy'])\n",
    "\n",
    "model.summary()"
   ]
  },
  {
   "cell_type": "code",
   "execution_count": 9,
   "metadata": {},
   "outputs": [
    {
     "name": "stdout",
     "output_type": "stream",
     "text": [
      "Epoch 1/5\n",
      "625/625 [==============================] - 23s 36ms/step - loss: 0.6336 - accuracy: 0.6321 - val_loss: 0.4836 - val_accuracy: 0.6957\n",
      "Epoch 2/5\n",
      "625/625 [==============================] - 20s 33ms/step - loss: 0.4905 - accuracy: 0.6973 - val_loss: 0.4894 - val_accuracy: 0.7070\n",
      "Epoch 3/5\n",
      "625/625 [==============================] - 19s 30ms/step - loss: 0.4571 - accuracy: 0.7091 - val_loss: 0.6077 - val_accuracy: 0.7143\n",
      "Epoch 4/5\n",
      "625/625 [==============================] - 21s 33ms/step - loss: 0.4319 - accuracy: 0.7181 - val_loss: 0.8255 - val_accuracy: 0.7168\n",
      "Epoch 5/5\n",
      "625/625 [==============================] - 21s 34ms/step - loss: 0.4174 - accuracy: 0.7260 - val_loss: 0.9372 - val_accuracy: 0.7128\n"
     ]
    }
   ],
   "source": [
    "'''Traning the model'''\n",
    "history = model.fit(x_train, y_train, epochs=5, verbose=1,\n",
    "                    validation_data=(x_test, y_test))\n",
    "\n",
    "#(train_x, train_y, epochs=5,validation_data=(valid_x, valid_y))"
   ]
  },
  {
   "cell_type": "code",
   "execution_count": 10,
   "metadata": {
    "scrolled": true
   },
   "outputs": [
    {
     "data": {
      "text/plain": [
       "<matplotlib.legend.Legend at 0x7fde241acee0>"
      ]
     },
     "execution_count": 10,
     "metadata": {},
     "output_type": "execute_result"
    },
    {
     "data": {
      "image/png": "[encoded data removed]",
      "text/plain": [
       "<Figure size 1008x360 with 1 Axes>"
      ]
     },
     "metadata": {
      "needs_background": "light"
     },
     "output_type": "display_data"
    }
   ],
   "source": [
    "'''Plot loss trajectory throughout training'''\n",
    "plt.figure(1, figsize=(14,5))\n",
    "plt.subplot(1,2,1)\n",
    "plt.plot(history.history['loss'], label='train')\n",
    "plt.plot(history.history['val_loss'], label='valid')\n",
    "plt.xlabel('Epoch')\n",
    "plt.ylabel('Cross-Entropy Loss')\n",
    "plt.legend()"
   ]
  },
  {
   "cell_type": "code",
   "execution_count": 11,
   "metadata": {},
   "outputs": [
    {
     "name": "stdout",
     "output_type": "stream",
     "text": [
      "Test cross-entropy loss: 0.93722\n",
      "Test accuracy: 0.71275\n"
     ]
    },
    {
     "data": {
      "image/png": "[encoded data removed]",
      "text/plain": [
       "<Figure size 432x288 with 1 Axes>"
      ]
     },
     "metadata": {
      "needs_background": "light"
     },
     "output_type": "display_data"
    }
   ],
   "source": [
    "'''Score on original data'''\n",
    "score = model.evaluate(x_test, y_test, verbose=0)\n",
    "print('Test cross-entropy loss: %0.5f' % score[0])\n",
    "print('Test accuracy: %0.5f' % score[1])\n",
    "plt.figure()\n",
    "plt.imshow(x_test[0])  \n",
    "plt.show()"
   ]
  },
  {
   "cell_type": "markdown",
   "metadata": {},
   "source": [
    "# FGSM attack "
   ]
  },
  {
   "cell_type": "code",
   "execution_count": 12,
   "metadata": {},
   "outputs": [
    {
     "name": "stdout",
     "output_type": "stream",
     "text": [
      "robustness of the undefended model 0.10543219392735938\n"
     ]
    }
   ],
   "source": [
    "'''wrap the model an calculte emperical robustnees'''\n",
    "classifier = TensorFlowV2Classifier(model=model, nb_classes=10, input_shape=(32,32,3),\n",
    "                                   loss_object = loss_object, clip_values=(0, 1))\n",
    "print('robustness of the undefended model', \n",
    "      empirical_robustness(classifier, x_test, 'fgsm', {}))"
   ]
  },
  {
   "cell_type": "code",
   "execution_count": 13,
   "metadata": {},
   "outputs": [
    {
     "name": "stdout",
     "output_type": "stream",
     "text": [
      "125/125 [==============================] - 1s 9ms/step - loss: 0.5377 - accuracy: 0.6660\n",
      "0.01\n",
      "125/125 [==============================] - 1s 11ms/step - loss: 0.6322 - accuracy: 0.6288\n",
      "0.015\n",
      "125/125 [==============================] - 1s 11ms/step - loss: 0.8691 - accuracy: 0.5888\n",
      "0.019999999999999997\n",
      "125/125 [==============================] - 1s 10ms/step - loss: 1.1649 - accuracy: 0.5465\n",
      "0.024999999999999998\n",
      "125/125 [==============================] - 1s 9ms/step - loss: 1.4771 - accuracy: 0.5125\n",
      "0.03\n",
      "125/125 [==============================] - 1s 10ms/step - loss: 1.7786 - accuracy: 0.4815\n",
      "0.034999999999999996\n",
      "125/125 [==============================] - 1s 9ms/step - loss: 2.0656 - accuracy: 0.4575\n",
      "0.039999999999999994\n",
      "125/125 [==============================] - 1s 11ms/step - loss: 2.3406 - accuracy: 0.4360\n",
      "0.045\n",
      "125/125 [==============================] - 1s 10ms/step - loss: 2.6054 - accuracy: 0.4193\n",
      "0.049999999999999996\n"
     ]
    }
   ],
   "source": [
    "eps_list=np.arange(0.01, 0.055, 0.005)\n",
    "acc=np.zeros(eps_list.size)\n",
    "for i in range(eps_list.size):\n",
    "    '''\n",
    "    creat adversial examples using build in FastGradientMethod from ART\n",
    "    also predict based on the current  adversial examples\n",
    "    '''\n",
    "\n",
    "    adv_fgsm_model = FastGradientMethod(classifier, norm=1, eps=eps_list[i]*32*32, targeted=False)\n",
    "    adv_fgsm_x = adv_fgsm_model.generate(x=x_test)\n",
    "    prediction_x = classifier.predict(x=adv_fgsm_x)\n",
    "    acc[i]=classifier._model.evaluate(adv_fgsm_x, y_test)[1]\n",
    "    print(eps_list[i])"
   ]
  },
  {
   "cell_type": "code",
   "execution_count": 14,
   "metadata": {},
   "outputs": [
    {
     "name": "stdout",
     "output_type": "stream",
     "text": [
      "125/125 [==============================] - 1s 10ms/step - loss: 7.8284 - accuracy: 0.3020\n",
      "0.01\n",
      "125/125 [==============================] - 1s 9ms/step - loss: 8.4480 - accuracy: 0.3055\n",
      "0.015\n",
      "125/125 [==============================] - 1s 10ms/step - loss: 8.7251 - accuracy: 0.3162\n",
      "0.019999999999999997\n",
      "125/125 [==============================] - 1s 10ms/step - loss: 8.7840 - accuracy: 0.3237\n",
      "0.024999999999999998\n",
      "125/125 [==============================] - 2s 12ms/step - loss: 8.7476 - accuracy: 0.3338\n",
      "0.03\n",
      "125/125 [==============================] - 1s 11ms/step - loss: 8.7589 - accuracy: 0.3430\n",
      "0.034999999999999996\n",
      "125/125 [==============================] - 1s 9ms/step - loss: 8.7530 - accuracy: 0.3507\n",
      "0.039999999999999994\n",
      "125/125 [==============================] - 1s 10ms/step - loss: 8.7763 - accuracy: 0.3568\n",
      "0.045\n",
      "125/125 [==============================] - 1s 10ms/step - loss: 8.7687 - accuracy: 0.3632\n",
      "0.049999999999999996\n"
     ]
    }
   ],
   "source": [
    "eps_list=np.arange(0.01, 0.055, 0.005)\n",
    "acc=np.zeros(eps_list.size)\n",
    "for i in range(eps_list.size):\n",
    "    '''\n",
    "    creat adversial examples using build in FastGradientMethod from ART\n",
    "    also predict based on the current  adversial examples\n",
    "    '''\n",
    "\n",
    "    adv_fgsm_model = FastGradientMethod(classifier, norm=2, eps=eps_list[i]*32*32, targeted=False)\n",
    "    adv_fgsm_x = adv_fgsm_model.generate(x=x_test)\n",
    "    prediction_x = classifier.predict(x=adv_fgsm_x)\n",
    "    acc[i]=classifier._model.evaluate(adv_fgsm_x, y_test)[1]\n",
    "    print(eps_list[i])"
   ]
  },
  {
   "cell_type": "code",
   "execution_count": 15,
   "metadata": {},
   "outputs": [
    {
     "name": "stdout",
     "output_type": "stream",
     "text": [
      "125/125 [==============================] - 2s 12ms/step - loss: 0.5560 - accuracy: 0.6503\n",
      "0.01\n",
      "125/125 [==============================] - 1s 10ms/step - loss: 0.7704 - accuracy: 0.6033\n",
      "0.015\n",
      "125/125 [==============================] - 1s 8ms/step - loss: 1.1028 - accuracy: 0.5537\n",
      "0.019999999999999997\n",
      "125/125 [==============================] - 1s 8ms/step - loss: 1.4590 - accuracy: 0.5160\n",
      "0.024999999999999998\n",
      "125/125 [==============================] - 1s 8ms/step - loss: 1.8000 - accuracy: 0.4795\n",
      "0.03\n",
      "125/125 [==============================] - 1s 9ms/step - loss: 2.1242 - accuracy: 0.4557\n",
      "0.034999999999999996\n",
      "125/125 [==============================] - 1s 9ms/step - loss: 2.4333 - accuracy: 0.4308\n",
      "0.039999999999999994\n",
      "125/125 [==============================] - 1s 8ms/step - loss: 2.7166 - accuracy: 0.4128\n",
      "0.045\n",
      "125/125 [==============================] - 1s 8ms/step - loss: 2.9735 - accuracy: 0.3972\n",
      "0.049999999999999996\n"
     ]
    }
   ],
   "source": [
    "eps_list=np.arange(0.01, 0.055, 0.005)\n",
    "acc=np.zeros(eps_list.size)\n",
    "for i in range(eps_list.size):\n",
    "    '''\n",
    "    creat adversial examples using build in FastGradientMethod from ART\n",
    "    also predict based on the current  adversial examples\n",
    "    '''\n",
    "\n",
    "    adv_fgsm_model = FastGradientMethod(classifier, norm=np.inf, eps=eps_list[i], targeted=False)\n",
    "    adv_fgsm_x = adv_fgsm_model.generate(x=x_test)\n",
    "    prediction_x = classifier.predict(x=adv_fgsm_x)\n",
    "    acc[i]=classifier._model.evaluate(adv_fgsm_x, y_test)[1]\n",
    "    print(eps_list[i])"
   ]
  },
  {
   "cell_type": "markdown",
   "metadata": {},
   "source": [
    "# ----------------------------------------------------"
   ]
  },
  {
   "cell_type": "code",
   "execution_count": 16,
   "metadata": {},
   "outputs": [
    {
     "name": "stdout",
     "output_type": "stream",
     "text": [
      "accuracy on adversarial examples:\n",
      "125/125 [==============================] - 1s 8ms/step - loss: 2.9735 - accuracy: 0.3972\n",
      "0.3972499966621399\n"
     ]
    }
   ],
   "source": [
    "# print('class prediction for the adversarial sample:',classifier.predict(adv_fgsm_x))\n",
    "print('accuracy on adversarial examples:' )\n",
    "print(classifier._model.evaluate(adv_fgsm_x, y_test)[1])"
   ]
  },
  {
   "cell_type": "code",
   "execution_count": 17,
   "metadata": {},
   "outputs": [
    {
     "name": "stdout",
     "output_type": "stream",
     "text": [
      "Test cross-entropy loss: 2.97348\n",
      "Test accuracy: 0.39725\n"
     ]
    },
    {
     "data": {
      "image/png": "[encoded data removed]",
      "text/plain": [
       "<Figure size 432x288 with 1 Axes>"
      ]
     },
     "metadata": {
      "needs_background": "light"
     },
     "output_type": "display_data"
    }
   ],
   "source": [
    "'''Score on adversarial examples'''\n",
    "score = model.evaluate(adv_fgsm_x, y_test, verbose=0)\n",
    "print('Test cross-entropy loss: %0.5f' % score[0])\n",
    "print('Test accuracy: %0.5f' % score[1])\n",
    "plt.figure()\n",
    "plt.imshow(adv_fgsm_x[0])  \n",
    "plt.show()"
   ]
  },
  {
   "cell_type": "code",
   "execution_count": null,
   "metadata": {},
   "outputs": [],
   "source": []
  }
 ],
 "metadata": {
  "kernelspec": {
   "display_name": "Python 3",
   "language": "python",
   "name": "python3"
  },
  "language_info": {
   "codemirror_mode": {
    "name": "ipython",
    "version": 3
   },
   "file_extension": ".py",
   "mimetype": "text/x-python",
   "name": "python",
   "nbconvert_exporter": "python",
   "pygments_lexer": "ipython3",
   "version": "3.8.5"
  }
 },
 "nbformat": 4,
 "nbformat_minor": 4
}
