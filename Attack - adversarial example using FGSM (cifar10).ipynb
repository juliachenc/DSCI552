{
 "cells": [
  {
   "cell_type": "code",
   "execution_count": 15,
   "metadata": {},
   "outputs": [],
   "source": [
    "import numpy as np\n",
    "import tensorflow as tf\n",
    "import matplotlib as mpl\n",
    "import matplotlib.pyplot as plt\n",
    "\n",
    "import keras\n",
    "from keras.models import Sequential\n",
    "from keras.layers import Dense, Dropout, Activation, Input, Flatten\n",
    "from keras.regularizers import l2"
   ]
  },
  {
   "cell_type": "markdown",
   "metadata": {},
   "source": [
    "# Loading hand writing dataset"
   ]
  },
  {
   "cell_type": "code",
   "execution_count": 16,
   "metadata": {},
   "outputs": [],
   "source": [
    "def exract_two_classes(data, labels, classes=(0,1), no_instance=400):\n",
    "    data_zeroes = data[ np.argwhere( labels ==  classes[0] ).reshape( -1 ) ][ :no_instance ]\n",
    "    data_ones = data[ np.argwhere( labels == classes[1] ).reshape( -1 ) ][ :no_instance ]\n",
    "    x = np.vstack( (data_zeroes, data_ones) )\n",
    "    \n",
    "    # normalize the data\n",
    "    x = x / 255.\n",
    "\n",
    "    labels_zeroes = np.zeros( data_zeroes.shape[ 0 ] )\n",
    "    labels_ones = np.ones( data_ones.shape[ 0 ] )\n",
    "    y = np.append( labels_zeroes, labels_ones )\n",
    "\n",
    "    return x, y"
   ]
  },
  {
   "cell_type": "code",
   "execution_count": 17,
   "metadata": {},
   "outputs": [],
   "source": [
    "cifar10 = tf.keras.datasets.cifar10# Object of the MNIST dataset\n",
    "(x_train, y_train),(x_test, y_test) = cifar10.load_data() # Load data\n",
    "\n",
    "\n",
    "# extract ones and zeroes\n",
    "x_train, y_train = exract_two_classes( x_train, y_train )\n",
    "x_test, y_test = exract_two_classes( x_test, y_test )"
   ]
  },
  {
   "cell_type": "code",
   "execution_count": 18,
   "metadata": {},
   "outputs": [],
   "source": [
    "x_train = np.array(x_train).astype(\"float\")\n",
    "y_train = np.array(y_train).astype(\"float\")\n",
    "x_test = np.array(x_test).astype(\"float\")\n",
    "y_test = np.array(y_test).astype(\"float\")"
   ]
  },
  {
   "cell_type": "code",
   "execution_count": 19,
   "metadata": {},
   "outputs": [
    {
     "name": "stdout",
     "output_type": "stream",
     "text": [
      "Lengh of dimensions for x_train:  (800, 32, 32, 3)\n",
      "Lengh of dimensions for y_train:  (800,)\n",
      "Lengh of dimensions for x_test:  (800, 32, 32, 3)\n",
      "Lengh of dimensions for y_test:  (800,)\n"
     ]
    }
   ],
   "source": [
    "print(\"Lengh of dimensions for x_train: \", x_train.shape)\n",
    "print(\"Lengh of dimensions for y_train: \", y_train.shape)\n",
    "print(\"Lengh of dimensions for x_test: \", x_test.shape)\n",
    "print(\"Lengh of dimensions for y_test: \", y_test.shape)"
   ]
  },
  {
   "cell_type": "code",
   "execution_count": 20,
   "metadata": {},
   "outputs": [],
   "source": [
    "'''reshape'''\n",
    "x_train = x_train.reshape(-1,32,32,3)\n",
    "x_test = x_test.reshape(-1,32,32,3)"
   ]
  },
  {
   "cell_type": "code",
   "execution_count": 21,
   "metadata": {},
   "outputs": [
    {
     "data": {
      "text/plain": [
       "'Normalization'"
      ]
     },
     "execution_count": 21,
     "metadata": {},
     "output_type": "execute_result"
    }
   ],
   "source": [
    "'''Normalization'''\n",
    "#x_train = x_train / 255.0\n",
    "#y_train = y_train / 255.0"
   ]
  },
  {
   "cell_type": "code",
   "execution_count": 22,
   "metadata": {},
   "outputs": [
    {
     "data": {
      "image/png": "[encoded data removed]",
      "text/plain": [
       "<Figure size 720x360 with 10 Axes>"
      ]
     },
     "metadata": {
      "needs_background": "light"
     },
     "output_type": "display_data"
    }
   ],
   "source": [
    "n_classes = 10\n",
    "inds=np.array([y_train==i for i in range(n_classes)])\n",
    "f,ax=plt.subplots(2,5,figsize=(10,5))\n",
    "ax=ax.flatten()\n",
    "for i in range(n_classes):\n",
    "    ax[i].imshow(x_train[np.argmax(inds[i])])\n",
    "    ax[i].set_title(str(i))\n",
    "plt.show()"
   ]
  },
  {
   "cell_type": "code",
   "execution_count": 23,
   "metadata": {},
   "outputs": [],
   "source": [
    "# Helper function to preprocess the image so that it can be inputted in MobileNetV2\n",
    "def preprocess(image):\n",
    "    image = tf.cast(image, tf.float32)\n",
    "    image = tf.image.resize(image, (224, 224))\n",
    "    image = tf.keras.applications.mobilenet_v2.preprocess_input(image)\n",
    "    image = image[None, ...]\n",
    "    return image\n",
    "\n",
    "# Helper function to extract labels from probability vector\n",
    "def get_imagenet_label(probs):\n",
    "    return decode_predictions(probs, top=1)[0][0]"
   ]
  },
  {
   "cell_type": "markdown",
   "metadata": {},
   "source": [
    "# Imagenet"
   ]
  },
  {
   "cell_type": "code",
   "execution_count": 27,
   "metadata": {},
   "outputs": [
    {
     "name": "stdout",
     "output_type": "stream",
     "text": [
      "Model: \"sequential_5\"\n",
      "_________________________________________________________________\n",
      "Layer (type)                 Output Shape              Param #   \n",
      "=================================================================\n",
      "conv2d (Conv2D)              (None, 30, 30, 20)        560       \n",
      "_________________________________________________________________\n",
      "max_pooling2d (MaxPooling2D) (None, 15, 15, 20)        0         \n",
      "_________________________________________________________________\n",
      "conv2d_1 (Conv2D)            (None, 13, 13, 20)        3620      \n",
      "_________________________________________________________________\n",
      "max_pooling2d_1 (MaxPooling2 (None, 6, 6, 20)          0         \n",
      "_________________________________________________________________\n",
      "flatten (Flatten)            (None, 720)               0         \n",
      "_________________________________________________________________\n",
      "dense (Dense)                (None, 500)               360500    \n",
      "_________________________________________________________________\n",
      "dense_1 (Dense)              (None, 10)                5010      \n",
      "=================================================================\n",
      "Total params: 369,690\n",
      "Trainable params: 369,690\n",
      "Non-trainable params: 0\n",
      "_________________________________________________________________\n"
     ]
    }
   ],
   "source": [
    "np.random.seed(44)\n",
    "model = tf.keras.Sequential([\n",
    "    # 1st convolution\n",
    "    tf.keras.layers.Conv2D(filters=20, kernel_size=(3,3), activation='relu', input_shape=(32,32,3)),\n",
    "    tf.keras.layers.MaxPool2D(pool_size=(2,2), strides=None, padding='valid'),\n",
    "    # 2nd convolution\n",
    "    tf.keras.layers.Conv2D(filters=20, kernel_size=(3,3), activation='relu'),\n",
    "    tf.keras.layers.MaxPool2D(pool_size=(2,2), strides=None, padding='valid'),\n",
    "    # dense\n",
    "    tf.keras.layers.Flatten(),\n",
    "    tf.keras.layers.Dense(500, activation='relu'),\n",
    "    tf.keras.layers.Dense(10, activation='softmax') \n",
    "])\n",
    "\n",
    "model.compile(optimizer='adam',\n",
    "              loss=tf.keras.losses.SparseCategoricalCrossentropy(from_logits=True),\n",
    "              metrics=['accuracy'])\n",
    "\n",
    "model.summary()"
   ]
  },
  {
   "cell_type": "code",
   "execution_count": 29,
   "metadata": {},
   "outputs": [
    {
     "name": "stdout",
     "output_type": "stream",
     "text": [
      "Epoch 1/10\n",
      "25/25 [==============================] - 1s 21ms/step - loss: 0.5181 - accuracy: 0.6900 - val_loss: 0.5592 - val_accuracy: 0.6500\n",
      "Epoch 2/10\n",
      "25/25 [==============================] - 1s 22ms/step - loss: 0.5350 - accuracy: 0.6787 - val_loss: 0.6219 - val_accuracy: 0.6438\n",
      "Epoch 3/10\n",
      "25/25 [==============================] - 0s 19ms/step - loss: 0.5174 - accuracy: 0.6812 - val_loss: 0.6051 - val_accuracy: 0.6600\n",
      "Epoch 4/10\n",
      "25/25 [==============================] - 0s 20ms/step - loss: 0.4850 - accuracy: 0.6975 - val_loss: 0.5827 - val_accuracy: 0.6675\n",
      "Epoch 5/10\n",
      "25/25 [==============================] - 0s 20ms/step - loss: 0.4805 - accuracy: 0.7275 - val_loss: 0.5422 - val_accuracy: 0.6725\n",
      "Epoch 6/10\n",
      "25/25 [==============================] - 1s 24ms/step - loss: 0.4592 - accuracy: 0.7400 - val_loss: 0.5357 - val_accuracy: 0.6700\n",
      "Epoch 7/10\n",
      "25/25 [==============================] - 0s 18ms/step - loss: 0.4628 - accuracy: 0.7138 - val_loss: 0.6109 - val_accuracy: 0.6500\n",
      "Epoch 8/10\n",
      "25/25 [==============================] - 0s 18ms/step - loss: 0.4630 - accuracy: 0.7088 - val_loss: 0.5335 - val_accuracy: 0.6737\n",
      "Epoch 9/10\n",
      "25/25 [==============================] - 0s 19ms/step - loss: 0.4387 - accuracy: 0.7113 - val_loss: 0.5404 - val_accuracy: 0.6725\n",
      "Epoch 10/10\n",
      "25/25 [==============================] - 0s 19ms/step - loss: 0.4524 - accuracy: 0.7225 - val_loss: 0.5304 - val_accuracy: 0.6762\n"
     ]
    }
   ],
   "source": [
    "'''Traning the model'''\n",
    "history = model.fit(x_train, y_train, epochs=10, verbose=1,\n",
    "                    validation_data=(x_test, y_test))\n",
    "\n",
    "#(train_x, train_y, epochs=5,validation_data=(valid_x, valid_y))"
   ]
  },
  {
   "cell_type": "code",
   "execution_count": 30,
   "metadata": {},
   "outputs": [
    {
     "data": {
      "text/plain": [
       "<matplotlib.legend.Legend at 0x7fdfc5f543a0>"
      ]
     },
     "execution_count": 30,
     "metadata": {},
     "output_type": "execute_result"
    },
    {
     "data": {
      "image/png": "[encoded data removed]",
      "text/plain": [
       "<Figure size 1008x360 with 1 Axes>"
      ]
     },
     "metadata": {
      "needs_background": "light"
     },
     "output_type": "display_data"
    }
   ],
   "source": [
    "'''Plot loss trajectory throughout training'''\n",
    "plt.figure(1, figsize=(14,5))\n",
    "plt.subplot(1,2,1)\n",
    "plt.plot(history.history['loss'], label='train')\n",
    "plt.plot(history.history['val_loss'], label='valid')\n",
    "plt.xlabel('Epoch')\n",
    "plt.ylabel('Cross-Entropy Loss')\n",
    "plt.legend()"
   ]
  },
  {
   "cell_type": "code",
   "execution_count": 31,
   "metadata": {},
   "outputs": [
    {
     "name": "stdout",
     "output_type": "stream",
     "text": [
      "Test cross-entropy loss: 0.53042\n",
      "Test accuracy: 0.68\n"
     ]
    }
   ],
   "source": [
    "score = model.evaluate(x_test, y_test, verbose=0)\n",
    "print('Test cross-entropy loss: %0.5f' % score[0])\n",
    "print('Test accuracy: %0.2f' % score[1])"
   ]
  },
  {
   "cell_type": "markdown",
   "metadata": {},
   "source": [
    "# FGSM"
   ]
  },
  {
   "cell_type": "code",
   "execution_count": 32,
   "metadata": {},
   "outputs": [],
   "source": [
    "import numpy as np\n",
    "import tensorflow as tf\n",
    "#import tensorflow_datasets as tfds\n",
    "from absl import app, flags\n",
    "from easydict import EasyDict\n",
    "from tensorflow.keras import Model\n",
    "from tensorflow.keras.layers import Dense, Dropout, Flatten, Conv2D\n",
    "\n",
    "from cleverhans.tf2.attacks.projected_gradient_descent import projected_gradient_descent\n",
    "from cleverhans.tf2.attacks.fast_gradient_method import fast_gradient_method"
   ]
  },
  {
   "cell_type": "code",
   "execution_count": 33,
   "metadata": {},
   "outputs": [],
   "source": [
    "original_image = x_test\n",
    "original_image = tf.convert_to_tensor(original_image.reshape((800,32,32,3)))\n",
    "\n",
    "original_label = y_test\n",
    "original_label = np.reshape(original_label, (800,)).astype('int64') "
   ]
  },
  {
   "cell_type": "code",
   "execution_count": 34,
   "metadata": {},
   "outputs": [],
   "source": [
    "logits_model = tf.keras.Model(model.input,model.layers[-1].output)"
   ]
  },
  {
   "cell_type": "code",
   "execution_count": 35,
   "metadata": {},
   "outputs": [
    {
     "data": {
      "text/plain": [
       "dtype('float64')"
      ]
     },
     "execution_count": 35,
     "metadata": {},
     "output_type": "execute_result"
    }
   ],
   "source": [
    "x_test[1,:,:,:].dtype"
   ]
  },
  {
   "cell_type": "code",
   "execution_count": 45,
   "metadata": {},
   "outputs": [],
   "source": [
    "epsilon  = 0.06\n",
    "adv_fgsm_x = fast_gradient_method(logits_model, original_image, epsilon, norm=np.inf, targeted=False)"
   ]
  },
  {
   "cell_type": "code",
   "execution_count": 46,
   "metadata": {},
   "outputs": [
    {
     "data": {
      "text/plain": [
       "TensorShape([800, 32, 32, 3])"
      ]
     },
     "execution_count": 46,
     "metadata": {},
     "output_type": "execute_result"
    }
   ],
   "source": [
    "adv_fgsm_x.shape"
   ]
  },
  {
   "cell_type": "code",
   "execution_count": 47,
   "metadata": {},
   "outputs": [
    {
     "data": {
      "image/png": "[encoded data removed]",
      "text/plain": [
       "<Figure size 216x216 with 1 Axes>"
      ]
     },
     "metadata": {
      "needs_background": "light"
     },
     "output_type": "display_data"
    },
    {
     "name": "stdout",
     "output_type": "stream",
     "text": [
      "Test cross-entropy loss: 1.57749\n",
      "Test accuracy: 0.45\n"
     ]
    }
   ],
   "source": [
    "plt.figure(figsize=(3,3))\n",
    "plt.imshow(adv_fgsm_x[0])  \n",
    "plt.show()\n",
    "'''Score on adversarial examples'''\n",
    "score = model.evaluate(adv_fgsm_x, original_label, verbose=0)\n",
    "print('Test cross-entropy loss: %0.5f' % score[0])\n",
    "print('Test accuracy: %0.2f' % score[1])"
   ]
  },
  {
   "cell_type": "code",
   "execution_count": 48,
   "metadata": {},
   "outputs": [
    {
     "data": {
      "image/png": "[encoded data removed]",
      "text/plain": [
       "<Figure size 216x216 with 1 Axes>"
      ]
     },
     "metadata": {
      "needs_background": "light"
     },
     "output_type": "display_data"
    },
    {
     "name": "stdout",
     "output_type": "stream",
     "text": [
      "Test cross-entropy loss: 0.53042\n",
      "Test accuracy: 0.68\n"
     ]
    }
   ],
   "source": [
    "plt.figure(figsize=(3,3))\n",
    "plt.imshow(x_test[0])  \n",
    "plt.show()\n",
    "'''Score on original data'''\n",
    "score = model.evaluate(x_test, original_label, verbose=0)\n",
    "print('Test cross-entropy loss: %0.5f' % score[0])\n",
    "print('Test accuracy: %0.2f' % score[1])"
   ]
  },
  {
   "cell_type": "code",
   "execution_count": null,
   "metadata": {},
   "outputs": [],
   "source": []
  },
  {
   "cell_type": "code",
   "execution_count": null,
   "metadata": {},
   "outputs": [],
   "source": []
  }
 ],
 "metadata": {
  "kernelspec": {
   "display_name": "Python 3",
   "language": "python",
   "name": "python3"
  },
  "language_info": {
   "codemirror_mode": {
    "name": "ipython",
    "version": 3
   },
   "file_extension": ".py",
   "mimetype": "text/x-python",
   "name": "python",
   "nbconvert_exporter": "python",
   "pygments_lexer": "ipython3",
   "version": "3.8.5"
  }
 },
 "nbformat": 4,
 "nbformat_minor": 4
}
