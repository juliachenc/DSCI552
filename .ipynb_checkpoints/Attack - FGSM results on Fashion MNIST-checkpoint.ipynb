{
 "cells": [
  {
   "cell_type": "code",
   "execution_count": 1,
   "metadata": {},
   "outputs": [],
   "source": [
    "from art.utils import load_dataset\n",
    "from art.classifiers import TensorFlowV2Classifier\n",
    "from art.attacks.evasion import FastGradientMethod\n",
    "from art.defences.trainer import AdversarialTrainer\n",
    "from art.metrics import empirical_robustness\n",
    "\n",
    "import numpy as np\n",
    "import tensorflow as tf\n",
    "import matplotlib as mpl\n",
    "import matplotlib.pyplot as plt\n",
    "\n",
    "from keras.models import Sequential\n",
    "from keras.layers import Dense, Flatten, Conv2D, MaxPooling2D, Dropout"
   ]
  },
  {
   "cell_type": "markdown",
   "metadata": {},
   "source": [
    "# Loading hand writing dataset"
   ]
  },
  {
   "cell_type": "code",
   "execution_count": 2,
   "metadata": {},
   "outputs": [],
   "source": [
    "def exract_two_classes( data, labels, classes=(0,1), no_instance=10000):\n",
    "    data_zeroes = data[ np.argwhere( labels ==  classes[0] ).reshape( -1 ) ][ :no_instance ]\n",
    "    data_ones = data[ np.argwhere( labels == classes[1] ).reshape( -1 ) ][ :no_instance ]\n",
    "    x = np.vstack( (data_zeroes, data_ones) )\n",
    "    \n",
    "    # normalize the data\n",
    "    x = x / 255.\n",
    "\n",
    "    labels_zeroes = np.zeros( data_zeroes.shape[ 0 ] )\n",
    "    labels_ones = np.ones( data_ones.shape[ 0 ] )\n",
    "    y = np.append( labels_zeroes, labels_ones )\n",
    "\n",
    "    return x, y"
   ]
  },
  {
   "cell_type": "code",
   "execution_count": 3,
   "metadata": {},
   "outputs": [],
   "source": [
    "mnist = tf.keras.datasets.fashion_mnist # Object of the MNIST dataset\n",
    "(x_train, y_train),(x_test, y_test) = mnist.load_data() # Load data\n",
    "\n",
    "# extract ones and zeroes\n",
    "x_train, y_train = exract_two_classes( x_train, y_train )\n",
    "x_test, y_test = exract_two_classes( x_test, y_test )"
   ]
  },
  {
   "cell_type": "code",
   "execution_count": 4,
   "metadata": {},
   "outputs": [],
   "source": [
    "x_train = np.array(x_train).astype(\"float\")\n",
    "y_train = np.array(y_train).astype(\"float\")\n",
    "x_test = np.array(x_test).astype(\"float\")\n",
    "y_test = np.array(y_test).astype(\"float\")"
   ]
  },
  {
   "cell_type": "code",
   "execution_count": 5,
   "metadata": {},
   "outputs": [
    {
     "name": "stdout",
     "output_type": "stream",
     "text": [
      "Lengh of dimensions for x_train:  (12000, 28, 28)\n",
      "Lengh of dimensions for y_train:  (12000,)\n",
      "Lengh of dimensions for x_test:  (2000, 28, 28)\n",
      "Lengh of dimensions for y_test:  (2000,)\n"
     ]
    }
   ],
   "source": [
    "print(\"Lengh of dimensions for x_train: \", x_train.shape)\n",
    "print(\"Lengh of dimensions for y_train: \", y_train.shape)\n",
    "print(\"Lengh of dimensions for x_test: \", x_test.shape)\n",
    "print(\"Lengh of dimensions for y_test: \", y_test.shape)"
   ]
  },
  {
   "cell_type": "code",
   "execution_count": 6,
   "metadata": {},
   "outputs": [],
   "source": [
    "'''reshape'''\n",
    "x_train = x_train.reshape(-1,28,28,1)\n",
    "x_test = x_test.reshape(-1,28,28,1)"
   ]
  },
  {
   "cell_type": "code",
   "execution_count": 7,
   "metadata": {},
   "outputs": [
    {
     "data": {
      "image/png": "[encoded data removed]",
      "text/plain": [
       "<Figure size 720x360 with 10 Axes>"
      ]
     },
     "metadata": {
      "needs_background": "light"
     },
     "output_type": "display_data"
    }
   ],
   "source": [
    "n_classes = 10\n",
    "inds=np.array([y_train==i for i in range(n_classes)])\n",
    "f,ax=plt.subplots(2,5,figsize=(10,5))\n",
    "ax=ax.flatten()\n",
    "for i in range(n_classes):\n",
    "    ax[i].imshow(x_train[np.argmax(inds[i])].reshape(28,28))\n",
    "    ax[i].set_title(str(i))\n",
    "plt.show()"
   ]
  },
  {
   "cell_type": "markdown",
   "metadata": {},
   "source": [
    "# Simple fully-connected neural network with 2 hidden layers"
   ]
  },
  {
   "cell_type": "code",
   "execution_count": 8,
   "metadata": {},
   "outputs": [
    {
     "name": "stdout",
     "output_type": "stream",
     "text": [
      "Model: \"sequential\"\n",
      "_________________________________________________________________\n",
      "Layer (type)                 Output Shape              Param #   \n",
      "=================================================================\n",
      "conv2d (Conv2D)              (None, 26, 26, 20)        200       \n",
      "_________________________________________________________________\n",
      "max_pooling2d (MaxPooling2D) (None, 13, 13, 20)        0         \n",
      "_________________________________________________________________\n",
      "conv2d_1 (Conv2D)            (None, 11, 11, 20)        3620      \n",
      "_________________________________________________________________\n",
      "max_pooling2d_1 (MaxPooling2 (None, 5, 5, 20)          0         \n",
      "_________________________________________________________________\n",
      "flatten (Flatten)            (None, 500)               0         \n",
      "_________________________________________________________________\n",
      "dense (Dense)                (None, 500)               250500    \n",
      "_________________________________________________________________\n",
      "dense_1 (Dense)              (None, 10)                5010      \n",
      "=================================================================\n",
      "Total params: 259,330\n",
      "Trainable params: 259,330\n",
      "Non-trainable params: 0\n",
      "_________________________________________________________________\n"
     ]
    }
   ],
   "source": [
    "np.random.seed(44)\n",
    "model = tf.keras.Sequential([\n",
    "    # 1st convolution\n",
    "    tf.keras.layers.Conv2D(filters=20, kernel_size=(3,3), activation='relu', input_shape=(28,28,1)),\n",
    "    tf.keras.layers.MaxPool2D(pool_size=(2,2), strides=None, padding='valid'),\n",
    "    # 2nd convolution\n",
    "    tf.keras.layers.Conv2D(filters=20, kernel_size=(3,3), activation='relu'),\n",
    "    tf.keras.layers.MaxPool2D(pool_size=(2,2), strides=None, padding='valid'),\n",
    "    # dense\n",
    "    tf.keras.layers.Flatten(),\n",
    "    tf.keras.layers.Dense(500, activation='relu'),\n",
    "    tf.keras.layers.Dense(10, activation='softmax') \n",
    "])\n",
    "\n",
    "loss_object = tf.keras.losses.SparseCategoricalCrossentropy(from_logits=True)\n",
    "model.compile(optimizer='adam',\n",
    "              loss=loss_object,\n",
    "              metrics=['accuracy'])\n",
    "\n",
    "model.summary()"
   ]
  },
  {
   "cell_type": "code",
   "execution_count": 9,
   "metadata": {},
   "outputs": [
    {
     "name": "stdout",
     "output_type": "stream",
     "text": [
      "Epoch 1/5\n",
      "375/375 [==============================] - 6s 14ms/step - loss: 0.2180 - accuracy: 0.9516 - val_loss: 0.0269 - val_accuracy: 0.9875\n",
      "Epoch 2/5\n",
      "375/375 [==============================] - 5s 14ms/step - loss: 0.0326 - accuracy: 0.9878 - val_loss: 0.0270 - val_accuracy: 0.9905\n",
      "Epoch 3/5\n",
      "375/375 [==============================] - 6s 15ms/step - loss: 0.0205 - accuracy: 0.9927 - val_loss: 0.0222 - val_accuracy: 0.9930\n",
      "Epoch 4/5\n",
      "375/375 [==============================] - 5s 14ms/step - loss: 0.0140 - accuracy: 0.9954 - val_loss: 0.0158 - val_accuracy: 0.9940\n",
      "Epoch 5/5\n",
      "375/375 [==============================] - 4s 11ms/step - loss: 0.0124 - accuracy: 0.9958 - val_loss: 0.0144 - val_accuracy: 0.9940\n"
     ]
    }
   ],
   "source": [
    "'''Traning the model'''\n",
    "history = model.fit(x_train, y_train, epochs=5, verbose=1,\n",
    "                    validation_data=(x_test, y_test))\n",
    "\n",
    "#(train_x, train_y, epochs=5,validation_data=(valid_x, valid_y))"
   ]
  },
  {
   "cell_type": "code",
   "execution_count": 10,
   "metadata": {
    "scrolled": true
   },
   "outputs": [
    {
     "data": {
      "text/plain": [
       "<matplotlib.legend.Legend at 0x7ff129884af0>"
      ]
     },
     "execution_count": 10,
     "metadata": {},
     "output_type": "execute_result"
    },
    {
     "data": {
      "image/png": "[encoded data removed]",
      "text/plain": [
       "<Figure size 1008x360 with 1 Axes>"
      ]
     },
     "metadata": {
      "needs_background": "light"
     },
     "output_type": "display_data"
    }
   ],
   "source": [
    "'''Plot loss trajectory throughout training'''\n",
    "plt.figure(1, figsize=(14,5))\n",
    "plt.subplot(1,2,1)\n",
    "plt.plot(history.history['loss'], label='train')\n",
    "plt.plot(history.history['val_loss'], label='valid')\n",
    "plt.xlabel('Epoch')\n",
    "plt.ylabel('Cross-Entropy Loss')\n",
    "plt.legend()"
   ]
  },
  {
   "cell_type": "code",
   "execution_count": 11,
   "metadata": {},
   "outputs": [
    {
     "name": "stdout",
     "output_type": "stream",
     "text": [
      "Test cross-entropy loss: 0.01444\n",
      "Test accuracy: 0.99400\n"
     ]
    },
    {
     "data": {
      "image/png": "[encoded data removed]",
      "text/plain": [
       "<Figure size 432x288 with 1 Axes>"
      ]
     },
     "metadata": {
      "needs_background": "light"
     },
     "output_type": "display_data"
    }
   ],
   "source": [
    "'''Score on original data'''\n",
    "score = model.evaluate(x_test, y_test, verbose=0)\n",
    "print('Test cross-entropy loss: %0.5f' % score[0])\n",
    "print('Test accuracy: %0.5f' % score[1])\n",
    "plt.figure()\n",
    "plt.imshow(x_test[0])  \n",
    "plt.show()"
   ]
  },
  {
   "cell_type": "markdown",
   "metadata": {},
   "source": [
    "# FGSM attack "
   ]
  },
  {
   "cell_type": "code",
   "execution_count": 12,
   "metadata": {},
   "outputs": [
    {
     "name": "stdout",
     "output_type": "stream",
     "text": [
      "robustness of the undefended model 0.16939663704746413\n"
     ]
    }
   ],
   "source": [
    "'''wrap the model an calculte emperical robustnees'''\n",
    "classifier = TensorFlowV2Classifier(model=model, nb_classes=10, input_shape=(28,28,1),\n",
    "                                   loss_object = loss_object, clip_values=(0, 1))\n",
    "print('robustness of the undefended model', \n",
    "      empirical_robustness(classifier, x_test, 'fgsm', {}))"
   ]
  },
  {
   "cell_type": "code",
   "execution_count": 13,
   "metadata": {
    "scrolled": true
   },
   "outputs": [
    {
     "name": "stdout",
     "output_type": "stream",
     "text": [
      "63/63 [==============================] - 0s 3ms/step - loss: 0.0615 - accuracy: 0.9730\n",
      "0.01\n",
      "63/63 [==============================] - 0s 3ms/step - loss: 0.2280 - accuracy: 0.9175\n",
      "0.02\n",
      "63/63 [==============================] - 0s 5ms/step - loss: 0.5253 - accuracy: 0.8315\n",
      "0.03\n",
      "63/63 [==============================] - 0s 3ms/step - loss: 0.9283 - accuracy: 0.7125\n",
      "0.04\n",
      "63/63 [==============================] - 0s 3ms/step - loss: 1.3918 - accuracy: 0.5980\n",
      "0.05\n",
      "63/63 [==============================] - 0s 3ms/step - loss: 1.8635 - accuracy: 0.5055\n",
      "0.060000000000000005\n",
      "63/63 [==============================] - 0s 3ms/step - loss: 2.3020 - accuracy: 0.4485\n",
      "0.06999999999999999\n",
      "63/63 [==============================] - 0s 3ms/step - loss: 2.6955 - accuracy: 0.4070\n",
      "0.08\n",
      "63/63 [==============================] - 0s 4ms/step - loss: 3.0430 - accuracy: 0.3790\n",
      "0.09\n"
     ]
    }
   ],
   "source": [
    "eps_list=np.arange(0.01, 0.1, 0.01)\n",
    "acc=np.zeros(eps_list.size)\n",
    "for i in range(eps_list.size):\n",
    "    '''\n",
    "    creat adversial examples using build in FastGradientMethod from ART\n",
    "    also predict based on the current  adversial examples\n",
    "    '''\n",
    "\n",
    "    adv_fgsm_model = FastGradientMethod(classifier, norm=1, eps=eps_list[i]*784, targeted=False)\n",
    "    adv_fgsm_x = adv_fgsm_model.generate(x=x_test)\n",
    "    prediction_x = classifier.predict(x=adv_fgsm_x)\n",
    "    acc[i]=classifier._model.evaluate(adv_fgsm_x, y_test)[1]\n",
    "    print(eps_list[i])"
   ]
  },
  {
   "cell_type": "code",
   "execution_count": 14,
   "metadata": {},
   "outputs": [
    {
     "name": "stdout",
     "output_type": "stream",
     "text": [
      "63/63 [==============================] - 0s 3ms/step - loss: 3.4225 - accuracy: 0.4190\n",
      "0.01\n",
      "63/63 [==============================] - 0s 3ms/step - loss: 4.7446 - accuracy: 0.3460\n",
      "0.02\n",
      "63/63 [==============================] - 0s 3ms/step - loss: 5.2992 - accuracy: 0.3235\n",
      "0.03\n",
      "63/63 [==============================] - 0s 3ms/step - loss: 5.5177 - accuracy: 0.3125\n",
      "0.04\n",
      "63/63 [==============================] - 0s 3ms/step - loss: 5.6054 - accuracy: 0.3035\n",
      "0.05\n",
      "63/63 [==============================] - 0s 3ms/step - loss: 5.6384 - accuracy: 0.2975\n",
      "0.060000000000000005\n",
      "63/63 [==============================] - 0s 4ms/step - loss: 5.6398 - accuracy: 0.2875\n",
      "0.06999999999999999\n",
      "63/63 [==============================] - 0s 3ms/step - loss: 5.6299 - accuracy: 0.2820\n",
      "0.08\n",
      "63/63 [==============================] - 0s 4ms/step - loss: 5.6201 - accuracy: 0.2755\n",
      "0.09\n"
     ]
    }
   ],
   "source": [
    "eps_list=np.arange(0.01, 0.1, 0.01)\n",
    "acc=np.zeros(eps_list.size)\n",
    "for i in range(eps_list.size):\n",
    "    '''\n",
    "    creat adversial examples using build in FastGradientMethod from ART\n",
    "    also predict based on the current  adversial examples\n",
    "    '''\n",
    "\n",
    "    adv_fgsm_model = FastGradientMethod(classifier, norm=2, eps=eps_list[i]*784, targeted=False)\n",
    "    adv_fgsm_x = adv_fgsm_model.generate(x=x_test)\n",
    "    prediction_x = classifier.predict(x=adv_fgsm_x)\n",
    "    acc[i]=classifier._model.evaluate(adv_fgsm_x, y_test)[1]\n",
    "    print(eps_list[i])"
   ]
  },
  {
   "cell_type": "code",
   "execution_count": 15,
   "metadata": {},
   "outputs": [
    {
     "name": "stdout",
     "output_type": "stream",
     "text": [
      "63/63 [==============================] - 0s 3ms/step - loss: 0.0184 - accuracy: 0.9930\n",
      "0.01\n",
      "63/63 [==============================] - 0s 5ms/step - loss: 0.0338 - accuracy: 0.9840\n",
      "0.02\n",
      "63/63 [==============================] - 0s 3ms/step - loss: 0.0621 - accuracy: 0.9730\n",
      "0.03\n",
      "63/63 [==============================] - 0s 4ms/step - loss: 0.1044 - accuracy: 0.9565\n",
      "0.04\n",
      "63/63 [==============================] - 0s 3ms/step - loss: 0.1609 - accuracy: 0.9400\n",
      "0.05\n",
      "63/63 [==============================] - 0s 3ms/step - loss: 0.2315 - accuracy: 0.9200\n",
      "0.060000000000000005\n",
      "63/63 [==============================] - 0s 3ms/step - loss: 0.3180 - accuracy: 0.8920\n",
      "0.06999999999999999\n",
      "63/63 [==============================] - 0s 3ms/step - loss: 0.4230 - accuracy: 0.8620\n",
      "0.08\n",
      "63/63 [==============================] - 0s 3ms/step - loss: 0.5454 - accuracy: 0.8260\n",
      "0.09\n"
     ]
    }
   ],
   "source": [
    "eps_list=np.arange(0.01, 0.1, 0.01)\n",
    "acc=np.zeros(eps_list.size)\n",
    "for i in range(eps_list.size):\n",
    "    '''\n",
    "    creat adversial examples using build in FastGradientMethod from ART\n",
    "    also predict based on the current  adversial examples\n",
    "    '''\n",
    "\n",
    "    adv_fgsm_model = FastGradientMethod(classifier, norm=np.inf, eps=eps_list[i], targeted=False)\n",
    "    adv_fgsm_x = adv_fgsm_model.generate(x=x_test)\n",
    "    prediction_x = classifier.predict(x=adv_fgsm_x)\n",
    "    acc[i]=classifier._model.evaluate(adv_fgsm_x, y_test)[1]\n",
    "    print(eps_list[i])"
   ]
  },
  {
   "cell_type": "markdown",
   "metadata": {},
   "source": [
    "# -------------------------------------------"
   ]
  },
  {
   "cell_type": "code",
   "execution_count": 28,
   "metadata": {},
   "outputs": [
    {
     "name": "stdout",
     "output_type": "stream",
     "text": [
      "63/63 [==============================] - 0s 4ms/step - loss: 0.0184 - accuracy: 0.9930\n"
     ]
    }
   ],
   "source": [
    "adv_fgsm_model = FastGradientMethod(classifier, norm=np.inf, eps=0.01, targeted=False)\n",
    "adv_fgsm_x = adv_fgsm_model.generate(x=x_test)\n",
    "prediction_x = classifier.predict(x=adv_fgsm_x)\n",
    "acc=classifier._model.evaluate(adv_fgsm_x, y_test)[1]"
   ]
  },
  {
   "cell_type": "code",
   "execution_count": 29,
   "metadata": {},
   "outputs": [
    {
     "name": "stdout",
     "output_type": "stream",
     "text": [
      "accuracy on adversarial examples:\n",
      "63/63 [==============================] - 0s 3ms/step - loss: 0.0184 - accuracy: 0.9930\n",
      "0.9929999709129333\n"
     ]
    }
   ],
   "source": [
    "# print('class prediction for the adversarial sample:',classifier.predict(adv_fgsm_x))\n",
    "print('accuracy on adversarial examples:' )\n",
    "print(classifier._model.evaluate(adv_fgsm_x, y_test)[1])"
   ]
  },
  {
   "cell_type": "code",
   "execution_count": 30,
   "metadata": {},
   "outputs": [
    {
     "name": "stdout",
     "output_type": "stream",
     "text": [
      "Test cross-entropy loss: 0.01843\n",
      "Test accuracy: 0.99300\n"
     ]
    },
    {
     "data": {
      "image/png": "[encoded data removed]",
      "text/plain": [
       "<Figure size 432x288 with 1 Axes>"
      ]
     },
     "metadata": {
      "needs_background": "light"
     },
     "output_type": "display_data"
    }
   ],
   "source": [
    "'''Score on adversarial examples'''\n",
    "score = model.evaluate(adv_fgsm_x, y_test, verbose=0)\n",
    "print('Test cross-entropy loss: %0.5f' % score[0])\n",
    "print('Test accuracy: %0.5f' % score[1])\n",
    "plt.figure()\n",
    "plt.imshow(adv_fgsm_x[0])  \n",
    "plt.show()"
   ]
  },
  {
   "cell_type": "code",
   "execution_count": null,
   "metadata": {},
   "outputs": [],
   "source": []
  }
 ],
 "metadata": {
  "kernelspec": {
   "display_name": "Python 3",
   "language": "python",
   "name": "python3"
  },
  "language_info": {
   "codemirror_mode": {
    "name": "ipython",
    "version": 3
   },
   "file_extension": ".py",
   "mimetype": "text/x-python",
   "name": "python",
   "nbconvert_exporter": "python",
   "pygments_lexer": "ipython3",
   "version": "3.8.5"
  }
 },
 "nbformat": 4,
 "nbformat_minor": 4
}
