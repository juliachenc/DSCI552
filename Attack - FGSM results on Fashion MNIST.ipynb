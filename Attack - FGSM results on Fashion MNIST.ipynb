{
 "cells": [
  {
   "cell_type": "code",
   "execution_count": 15,
   "metadata": {},
   "outputs": [],
   "source": [
    "from art.utils import load_dataset\n",
    "from art.classifiers import TensorFlowV2Classifier\n",
    "from art.attacks.evasion import FastGradientMethod\n",
    "from art.defences.trainer import AdversarialTrainer\n",
    "from art.metrics import empirical_robustness\n",
    "\n",
    "import numpy as np\n",
    "import tensorflow as tf\n",
    "import matplotlib as mpl\n",
    "import matplotlib.pyplot as plt\n",
    "\n",
    "\n",
    "from keras.models import Sequential\n",
    "from keras.layers import Dense, Flatten, Conv2D, MaxPooling2D, Dropout"
   ]
  },
  {
   "cell_type": "markdown",
   "metadata": {},
   "source": [
    "# Loading hand writing dataset"
   ]
  },
  {
   "cell_type": "code",
   "execution_count": 16,
   "metadata": {},
   "outputs": [],
   "source": [
    "def exract_two_classes( data, labels, classes=(0,1), no_instance=10000):\n",
    "    data_zeroes = data[ np.argwhere( labels ==  classes[0] ).reshape( -1 ) ][ :no_instance ]\n",
    "    data_ones = data[ np.argwhere( labels == classes[1] ).reshape( -1 ) ][ :no_instance ]\n",
    "    x = np.vstack( (data_zeroes, data_ones) )\n",
    "    \n",
    "    # normalize the data\n",
    "    x = x / 255.\n",
    "\n",
    "    labels_zeroes = np.zeros( data_zeroes.shape[ 0 ] )\n",
    "    labels_ones = np.ones( data_ones.shape[ 0 ] )\n",
    "    y = np.append( labels_zeroes, labels_ones )\n",
    "\n",
    "    return x, y"
   ]
  },
  {
   "cell_type": "code",
   "execution_count": 17,
   "metadata": {},
   "outputs": [],
   "source": [
    "mnist = tf.keras.datasets.fashion_mnist # Object of the MNIST dataset\n",
    "(x_train, y_train),(x_test, y_test) = mnist.load_data() # Load data\n",
    "\n",
    "# extract ones and zeroes\n",
    "x_train, y_train = exract_two_classes( x_train, y_train )\n",
    "x_test, y_test = exract_two_classes( x_test, y_test )"
   ]
  },
  {
   "cell_type": "code",
   "execution_count": 18,
   "metadata": {},
   "outputs": [],
   "source": [
    "x_train = np.array(x_train).astype(\"float\")\n",
    "y_train = np.array(y_train).astype(\"float\")\n",
    "x_test = np.array(x_test).astype(\"float\")\n",
    "y_test = np.array(y_test).astype(\"float\")"
   ]
  },
  {
   "cell_type": "code",
   "execution_count": 19,
   "metadata": {},
   "outputs": [
    {
     "name": "stdout",
     "output_type": "stream",
     "text": [
      "Lengh of dimensions for x_train:  (12000, 28, 28)\n",
      "Lengh of dimensions for y_train:  (12000,)\n",
      "Lengh of dimensions for x_test:  (2000, 28, 28)\n",
      "Lengh of dimensions for y_test:  (2000,)\n"
     ]
    }
   ],
   "source": [
    "print(\"Lengh of dimensions for x_train: \", x_train.shape)\n",
    "print(\"Lengh of dimensions for y_train: \", y_train.shape)\n",
    "print(\"Lengh of dimensions for x_test: \", x_test.shape)\n",
    "print(\"Lengh of dimensions for y_test: \", y_test.shape)"
   ]
  },
  {
   "cell_type": "code",
   "execution_count": 20,
   "metadata": {},
   "outputs": [],
   "source": [
    "'''reshape'''\n",
    "x_train = x_train.reshape(-1,28,28,1)\n",
    "x_test = x_test.reshape(-1,28,28,1)"
   ]
  },
  {
   "cell_type": "code",
   "execution_count": 21,
   "metadata": {},
   "outputs": [
    {
     "data": {
      "image/png": "[encoded data removed]",
      "text/plain": [
       "<Figure size 720x360 with 10 Axes>"
      ]
     },
     "metadata": {
      "needs_background": "light"
     },
     "output_type": "display_data"
    }
   ],
   "source": [
    "n_classes = 10\n",
    "inds=np.array([y_train==i for i in range(n_classes)])\n",
    "f,ax=plt.subplots(2,5,figsize=(10,5))\n",
    "ax=ax.flatten()\n",
    "for i in range(n_classes):\n",
    "    ax[i].imshow(x_train[np.argmax(inds[i])].reshape(28,28))\n",
    "    ax[i].set_title(str(i))\n",
    "plt.show()"
   ]
  },
  {
   "cell_type": "markdown",
   "metadata": {},
   "source": [
    "# Simple fully-connected neural network with 2 hidden layers"
   ]
  },
  {
   "cell_type": "code",
   "execution_count": 22,
   "metadata": {},
   "outputs": [
    {
     "name": "stdout",
     "output_type": "stream",
     "text": [
      "Model: \"sequential_1\"\n",
      "_________________________________________________________________\n",
      "Layer (type)                 Output Shape              Param #   \n",
      "=================================================================\n",
      "conv2d_2 (Conv2D)            (None, 26, 26, 20)        200       \n",
      "_________________________________________________________________\n",
      "max_pooling2d_2 (MaxPooling2 (None, 13, 13, 20)        0         \n",
      "_________________________________________________________________\n",
      "conv2d_3 (Conv2D)            (None, 11, 11, 20)        3620      \n",
      "_________________________________________________________________\n",
      "max_pooling2d_3 (MaxPooling2 (None, 5, 5, 20)          0         \n",
      "_________________________________________________________________\n",
      "flatten_1 (Flatten)          (None, 500)               0         \n",
      "_________________________________________________________________\n",
      "dense_2 (Dense)              (None, 500)               250500    \n",
      "_________________________________________________________________\n",
      "dense_3 (Dense)              (None, 10)                5010      \n",
      "=================================================================\n",
      "Total params: 259,330\n",
      "Trainable params: 259,330\n",
      "Non-trainable params: 0\n",
      "_________________________________________________________________\n"
     ]
    }
   ],
   "source": [
    "np.random.seed(44)\n",
    "model = tf.keras.Sequential([\n",
    "    # 1st convolution\n",
    "    tf.keras.layers.Conv2D(filters=20, kernel_size=(3,3), activation='relu', input_shape=(28,28,1)),\n",
    "    tf.keras.layers.MaxPool2D(pool_size=(2,2), strides=None, padding='valid'),\n",
    "    # 2nd convolution\n",
    "    tf.keras.layers.Conv2D(filters=20, kernel_size=(3,3), activation='relu'),\n",
    "    tf.keras.layers.MaxPool2D(pool_size=(2,2), strides=None, padding='valid'),\n",
    "    # dense\n",
    "    tf.keras.layers.Flatten(),\n",
    "    tf.keras.layers.Dense(500, activation='relu'),\n",
    "    tf.keras.layers.Dense(10, activation='softmax') \n",
    "])\n",
    "\n",
    "loss_object = tf.keras.losses.SparseCategoricalCrossentropy(from_logits=True)\n",
    "model.compile(optimizer='adam',\n",
    "              loss=loss_object,\n",
    "              metrics=['accuracy'])\n",
    "\n",
    "model.summary()"
   ]
  },
  {
   "cell_type": "code",
   "execution_count": 23,
   "metadata": {},
   "outputs": [
    {
     "name": "stdout",
     "output_type": "stream",
     "text": [
      "Epoch 1/5\n",
      "375/375 [==============================] - 6s 14ms/step - loss: 0.2172 - accuracy: 0.9476 - val_loss: 0.0310 - val_accuracy: 0.9870\n",
      "Epoch 2/5\n",
      "375/375 [==============================] - 5s 13ms/step - loss: 0.0335 - accuracy: 0.9871 - val_loss: 0.0241 - val_accuracy: 0.9890\n",
      "Epoch 3/5\n",
      "375/375 [==============================] - 4s 10ms/step - loss: 0.0219 - accuracy: 0.9927 - val_loss: 0.0186 - val_accuracy: 0.9910\n",
      "Epoch 4/5\n",
      "375/375 [==============================] - 5s 13ms/step - loss: 0.0190 - accuracy: 0.9940 - val_loss: 0.0229 - val_accuracy: 0.9925\n",
      "Epoch 5/5\n",
      "375/375 [==============================] - 5s 13ms/step - loss: 0.0165 - accuracy: 0.9938 - val_loss: 0.0183 - val_accuracy: 0.9925\n"
     ]
    }
   ],
   "source": [
    "'''Traning the model'''\n",
    "history = model.fit(x_train, y_train, epochs=5, verbose=1,\n",
    "                    validation_data=(x_test, y_test))\n",
    "\n",
    "#(train_x, train_y, epochs=5,validation_data=(valid_x, valid_y))"
   ]
  },
  {
   "cell_type": "code",
   "execution_count": 24,
   "metadata": {
    "scrolled": true
   },
   "outputs": [
    {
     "data": {
      "text/plain": [
       "<matplotlib.legend.Legend at 0x7feafb319b50>"
      ]
     },
     "execution_count": 24,
     "metadata": {},
     "output_type": "execute_result"
    },
    {
     "data": {
      "image/png": "[encoded data removed]",
      "text/plain": [
       "<Figure size 1008x360 with 1 Axes>"
      ]
     },
     "metadata": {
      "needs_background": "light"
     },
     "output_type": "display_data"
    }
   ],
   "source": [
    "'''Plot loss trajectory throughout training'''\n",
    "plt.figure(1, figsize=(14,5))\n",
    "plt.subplot(1,2,1)\n",
    "plt.plot(history.history['loss'], label='train')\n",
    "plt.plot(history.history['val_loss'], label='valid')\n",
    "plt.xlabel('Epoch')\n",
    "plt.ylabel('Cross-Entropy Loss')\n",
    "plt.legend()"
   ]
  },
  {
   "cell_type": "code",
   "execution_count": 25,
   "metadata": {},
   "outputs": [
    {
     "name": "stdout",
     "output_type": "stream",
     "text": [
      "Test cross-entropy loss: 0.01831\n",
      "Test accuracy: 0.99250\n"
     ]
    },
    {
     "data": {
      "image/png": "[encoded data removed]",
      "text/plain": [
       "<Figure size 432x288 with 1 Axes>"
      ]
     },
     "metadata": {
      "needs_background": "light"
     },
     "output_type": "display_data"
    }
   ],
   "source": [
    "'''Score on original data'''\n",
    "score = model.evaluate(x_test, y_test, verbose=0)\n",
    "print('Test cross-entropy loss: %0.5f' % score[0])\n",
    "print('Test accuracy: %0.5f' % score[1])\n",
    "plt.figure()\n",
    "plt.imshow(x_test[0])  \n",
    "plt.show()"
   ]
  },
  {
   "cell_type": "markdown",
   "metadata": {},
   "source": [
    "# FGSM attack "
   ]
  },
  {
   "cell_type": "code",
   "execution_count": 26,
   "metadata": {},
   "outputs": [
    {
     "name": "stdout",
     "output_type": "stream",
     "text": [
      "robustness of the undefended model 0.16838571199008295\n"
     ]
    }
   ],
   "source": [
    "'''wrap the model an calculte emperical robustnees'''\n",
    "classifier = TensorFlowV2Classifier(model=model, nb_classes=10, input_shape=(28,28,1),\n",
    "                                   loss_object = loss_object, clip_values=(0, 1))\n",
    "print('robustness of the undefended model', \n",
    "      empirical_robustness(classifier, x_test, 'fgsm', {}))"
   ]
  },
  {
   "cell_type": "code",
   "execution_count": 27,
   "metadata": {
    "scrolled": true
   },
   "outputs": [
    {
     "name": "stdout",
     "output_type": "stream",
     "text": [
      "63/63 [==============================] - 0s 4ms/step - loss: 0.0604 - accuracy: 0.9715\n",
      "0.01\n",
      "63/63 [==============================] - 0s 6ms/step - loss: 0.2075 - accuracy: 0.9255\n",
      "0.02\n",
      "63/63 [==============================] - 0s 3ms/step - loss: 0.4464 - accuracy: 0.8555\n",
      "0.03\n",
      "63/63 [==============================] - 0s 5ms/step - loss: 0.7419 - accuracy: 0.7960\n",
      "0.04\n",
      "63/63 [==============================] - 0s 4ms/step - loss: 1.0534 - accuracy: 0.7180\n",
      "0.05\n",
      "63/63 [==============================] - 0s 4ms/step - loss: 1.3556 - accuracy: 0.6570\n",
      "0.060000000000000005\n",
      "63/63 [==============================] - 0s 6ms/step - loss: 1.6381 - accuracy: 0.6100\n",
      "0.06999999999999999\n",
      "63/63 [==============================] - 0s 4ms/step - loss: 1.8951 - accuracy: 0.5705\n",
      "0.08\n",
      "63/63 [==============================] - 0s 5ms/step - loss: 2.1268 - accuracy: 0.5405\n",
      "0.09\n"
     ]
    }
   ],
   "source": [
    "eps_list=np.arange(0.01, 0.1, 0.01)\n",
    "acc=np.zeros(eps_list.size)\n",
    "for i in range(eps_list.size):\n",
    "    '''\n",
    "    creat adversial examples using build in FastGradientMethod from ART\n",
    "    also predict based on the current  adversial examples\n",
    "    '''\n",
    "\n",
    "    adv_fgsm_model = FastGradientMethod(classifier, norm=1, eps=eps_list[i]*784, targeted=False)\n",
    "    adv_fgsm_x = adv_fgsm_model.generate(x=x_test)\n",
    "    prediction_x = classifier.predict(x=adv_fgsm_x)\n",
    "    acc[i]=classifier._model.evaluate(adv_fgsm_x, y_test)[1]\n",
    "    print(eps_list[i])"
   ]
  },
  {
   "cell_type": "code",
   "execution_count": 124,
   "metadata": {},
   "outputs": [
    {
     "name": "stdout",
     "output_type": "stream",
     "text": [
      "63/63 [==============================] - 0s 4ms/step - loss: 5.0817 - accuracy: 0.3735\n",
      "0.01\n",
      "63/63 [==============================] - 0s 3ms/step - loss: 6.5831 - accuracy: 0.4075\n",
      "0.02\n",
      "63/63 [==============================] - 0s 3ms/step - loss: 7.1687 - accuracy: 0.4220\n",
      "0.03\n",
      "63/63 [==============================] - 0s 3ms/step - loss: 7.4882 - accuracy: 0.4340\n",
      "0.04\n",
      "63/63 [==============================] - 0s 3ms/step - loss: 7.7095 - accuracy: 0.4415\n",
      "0.05\n",
      "63/63 [==============================] - 0s 3ms/step - loss: 7.8698 - accuracy: 0.4400\n",
      "0.060000000000000005\n",
      "63/63 [==============================] - 0s 3ms/step - loss: 7.9907 - accuracy: 0.4420\n",
      "0.06999999999999999\n",
      "63/63 [==============================] - 0s 3ms/step - loss: 8.0807 - accuracy: 0.4435\n",
      "0.08\n",
      "63/63 [==============================] - 0s 3ms/step - loss: 8.1478 - accuracy: 0.4450\n",
      "0.09\n"
     ]
    }
   ],
   "source": [
    "eps_list=np.arange(0.01, 0.1, 0.01)\n",
    "acc=np.zeros(eps_list.size)\n",
    "for i in range(eps_list.size):\n",
    "    '''\n",
    "    creat adversial examples using build in FastGradientMethod from ART\n",
    "    also predict based on the current  adversial examples\n",
    "    '''\n",
    "\n",
    "    adv_fgsm_model = FastGradientMethod(classifier, norm=2, eps=eps_list[i]*784, targeted=False)\n",
    "    adv_fgsm_x = adv_fgsm_model.generate(x=x_test)\n",
    "    prediction_x = classifier.predict(x=adv_fgsm_x)\n",
    "    acc[i]=classifier._model.evaluate(adv_fgsm_x, y_test)[1]\n",
    "    print(eps_list[i])"
   ]
  },
  {
   "cell_type": "code",
   "execution_count": 125,
   "metadata": {},
   "outputs": [
    {
     "name": "stdout",
     "output_type": "stream",
     "text": [
      "63/63 [==============================] - 0s 4ms/step - loss: 0.0287 - accuracy: 0.9855\n",
      "0.01\n",
      "63/63 [==============================] - 0s 3ms/step - loss: 0.0447 - accuracy: 0.9830\n",
      "0.02\n",
      "63/63 [==============================] - 0s 3ms/step - loss: 0.0766 - accuracy: 0.9710\n",
      "0.03\n",
      "63/63 [==============================] - 0s 3ms/step - loss: 0.1281 - accuracy: 0.9565\n",
      "0.04\n",
      "63/63 [==============================] - 0s 3ms/step - loss: 0.2028 - accuracy: 0.9215\n",
      "0.05\n",
      "63/63 [==============================] - 0s 3ms/step - loss: 0.3031 - accuracy: 0.8800\n",
      "0.060000000000000005\n",
      "63/63 [==============================] - 0s 4ms/step - loss: 0.4295 - accuracy: 0.8370\n",
      "0.06999999999999999\n",
      "63/63 [==============================] - 0s 4ms/step - loss: 0.5786 - accuracy: 0.7835\n",
      "0.08\n",
      "63/63 [==============================] - 0s 4ms/step - loss: 0.7490 - accuracy: 0.7255\n",
      "0.09\n"
     ]
    }
   ],
   "source": [
    "eps_list=np.arange(0.01, 0.1, 0.01)\n",
    "acc=np.zeros(eps_list.size)\n",
    "for i in range(eps_list.size):\n",
    "    '''\n",
    "    creat adversial examples using build in FastGradientMethod from ART\n",
    "    also predict based on the current  adversial examples\n",
    "    '''\n",
    "\n",
    "    adv_fgsm_model = FastGradientMethod(classifier, norm=np.inf, eps=eps_list[i], targeted=False)\n",
    "    adv_fgsm_x = adv_fgsm_model.generate(x=x_test)\n",
    "    prediction_x = classifier.predict(x=adv_fgsm_x)\n",
    "    acc[i]=classifier._model.evaluate(adv_fgsm_x, y_test)[1]\n",
    "    print(eps_list[i])"
   ]
  },
  {
   "cell_type": "markdown",
   "metadata": {},
   "source": [
    "# -------------------------------------------"
   ]
  },
  {
   "cell_type": "code",
   "execution_count": 126,
   "metadata": {},
   "outputs": [
    {
     "name": "stdout",
     "output_type": "stream",
     "text": [
      "accuracy on adversarial examples:\n",
      "63/63 [==============================] - 0s 4ms/step - loss: 0.7490 - accuracy: 0.7255\n",
      "0.7254999876022339\n"
     ]
    }
   ],
   "source": [
    "# print('class prediction for the adversarial sample:',classifier.predict(adv_fgsm_x))\n",
    "print('accuracy on adversarial examples:' )\n",
    "print(classifier._model.evaluate(adv_fgsm_x, y_test)[1])"
   ]
  },
  {
   "cell_type": "code",
   "execution_count": 127,
   "metadata": {},
   "outputs": [
    {
     "name": "stdout",
     "output_type": "stream",
     "text": [
      "Test cross-entropy loss: 0.74897\n",
      "Test accuracy: 0.72550\n"
     ]
    },
    {
     "data": {
      "image/png": "[encoded data removed]",
      "text/plain": [
       "<Figure size 432x288 with 1 Axes>"
      ]
     },
     "metadata": {
      "needs_background": "light"
     },
     "output_type": "display_data"
    }
   ],
   "source": [
    "'''Score on adversarial examples'''\n",
    "score = model.evaluate(adv_fgsm_x, y_test, verbose=0)\n",
    "print('Test cross-entropy loss: %0.5f' % score[0])\n",
    "print('Test accuracy: %0.5f' % score[1])\n",
    "plt.figure()\n",
    "plt.imshow(adv_fgsm_x[0])  \n",
    "plt.show()"
   ]
  },
  {
   "cell_type": "code",
   "execution_count": null,
   "metadata": {},
   "outputs": [],
   "source": []
  }
 ],
 "metadata": {
  "kernelspec": {
   "display_name": "Python 3",
   "language": "python",
   "name": "python3"
  },
  "language_info": {
   "codemirror_mode": {
    "name": "ipython",
    "version": 3
   },
   "file_extension": ".py",
   "mimetype": "text/x-python",
   "name": "python",
   "nbconvert_exporter": "python",
   "pygments_lexer": "ipython3",
   "version": "3.8.5"
  }
 },
 "nbformat": 4,
 "nbformat_minor": 4
}
