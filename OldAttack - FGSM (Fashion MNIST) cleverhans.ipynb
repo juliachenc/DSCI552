{
 "cells": [
  {
   "cell_type": "code",
   "execution_count": 3,
   "metadata": {},
   "outputs": [],
   "source": [
    "import numpy as np\n",
    "import tensorflow as tf\n",
    "import matplotlib as mpl\n",
    "import matplotlib.pyplot as plt\n",
    "\n",
    "import keras\n",
    "from keras.models import Sequential\n",
    "from keras.layers import Dense, Dropout, Activation, Input, Flatten\n",
    "from keras.regularizers import l2"
   ]
  },
  {
   "cell_type": "markdown",
   "metadata": {},
   "source": [
    "# Loading hand writing dataset"
   ]
  },
  {
   "cell_type": "code",
   "execution_count": 4,
   "metadata": {},
   "outputs": [],
   "source": [
    "def exract_two_classes( data, labels, classes=(0,1), no_instance=400):\n",
    "    data_zeroes = data[ np.argwhere( labels ==  classes[0] ).reshape( -1 ) ][ :no_instance ]\n",
    "    data_ones = data[ np.argwhere( labels == classes[1] ).reshape( -1 ) ][ :no_instance ]\n",
    "    x = np.vstack( (data_zeroes, data_ones) )\n",
    "    \n",
    "    # normalize the data\n",
    "    x = x / 255.\n",
    "\n",
    "    labels_zeroes = np.zeros( data_zeroes.shape[ 0 ] )\n",
    "    labels_ones = np.ones( data_ones.shape[ 0 ] )\n",
    "    y = np.append( labels_zeroes, labels_ones )\n",
    "\n",
    "    return x, y"
   ]
  },
  {
   "cell_type": "code",
   "execution_count": 5,
   "metadata": {},
   "outputs": [],
   "source": [
    "mnist = tf.keras.datasets.fashion_mnist # Object of the MNIST dataset\n",
    "(x_train, y_train),(x_test, y_test) = mnist.load_data() # Load data\n",
    "\n",
    "# extract ones and zeroes\n",
    "x_train, y_train = exract_two_classes( x_train, y_train )\n",
    "x_test, y_test = exract_two_classes( x_test, y_test )"
   ]
  },
  {
   "cell_type": "code",
   "execution_count": 6,
   "metadata": {},
   "outputs": [],
   "source": [
    "x_train = np.array(x_train).astype(\"float\")\n",
    "y_train = np.array(y_train).astype(\"float\")\n",
    "x_test = np.array(x_test).astype(\"float\")\n",
    "y_test = np.array(y_test).astype(\"float\")"
   ]
  },
  {
   "cell_type": "code",
   "execution_count": 7,
   "metadata": {},
   "outputs": [
    {
     "name": "stdout",
     "output_type": "stream",
     "text": [
      "Lengh of dimensions for x_train:  (800, 28, 28)\n",
      "Lengh of dimensions for y_train:  (800,)\n",
      "Lengh of dimensions for x_test:  (800, 28, 28)\n",
      "Lengh of dimensions for y_test:  (800,)\n"
     ]
    }
   ],
   "source": [
    "print(\"Lengh of dimensions for x_train: \", x_train.shape)\n",
    "print(\"Lengh of dimensions for y_train: \", y_train.shape)\n",
    "print(\"Lengh of dimensions for x_test: \", x_test.shape)\n",
    "print(\"Lengh of dimensions for y_test: \", y_test.shape)"
   ]
  },
  {
   "cell_type": "code",
   "execution_count": 8,
   "metadata": {},
   "outputs": [],
   "source": [
    "'''reshape'''\n",
    "x_train = x_train.reshape(-1,28,28,1)\n",
    "x_test = x_test.reshape(-1,28,28,1)"
   ]
  },
  {
   "cell_type": "code",
   "execution_count": 9,
   "metadata": {},
   "outputs": [
    {
     "data": {
      "text/plain": [
       "'Normalization'"
      ]
     },
     "execution_count": 9,
     "metadata": {},
     "output_type": "execute_result"
    }
   ],
   "source": [
    "'''Normalization'''\n",
    "#x_train = x_train / 255.0\n",
    "#y_train = y_train / 255.0"
   ]
  },
  {
   "cell_type": "code",
   "execution_count": 10,
   "metadata": {},
   "outputs": [
    {
     "data": {
      "image/png": "[encoded data removed]",
      "text/plain": [
       "<Figure size 720x360 with 10 Axes>"
      ]
     },
     "metadata": {
      "needs_background": "light"
     },
     "output_type": "display_data"
    }
   ],
   "source": [
    "n_classes = 10\n",
    "inds=np.array([y_train==i for i in range(n_classes)])\n",
    "f,ax=plt.subplots(2,5,figsize=(10,5))\n",
    "ax=ax.flatten()\n",
    "for i in range(n_classes):\n",
    "    ax[i].imshow(x_train[np.argmax(inds[i])].reshape(28,28))\n",
    "    ax[i].set_title(str(i))\n",
    "plt.show()"
   ]
  },
  {
   "cell_type": "markdown",
   "metadata": {},
   "source": [
    "# Simple fully-connected neural network with 2 hidden layers"
   ]
  },
  {
   "cell_type": "code",
   "execution_count": 11,
   "metadata": {},
   "outputs": [
    {
     "name": "stdout",
     "output_type": "stream",
     "text": [
      "Model: \"sequential\"\n",
      "_________________________________________________________________\n",
      "Layer (type)                 Output Shape              Param #   \n",
      "=================================================================\n",
      "conv2d (Conv2D)              (None, 26, 26, 20)        200       \n",
      "_________________________________________________________________\n",
      "max_pooling2d (MaxPooling2D) (None, 13, 13, 20)        0         \n",
      "_________________________________________________________________\n",
      "conv2d_1 (Conv2D)            (None, 11, 11, 20)        3620      \n",
      "_________________________________________________________________\n",
      "max_pooling2d_1 (MaxPooling2 (None, 5, 5, 20)          0         \n",
      "_________________________________________________________________\n",
      "flatten (Flatten)            (None, 500)               0         \n",
      "_________________________________________________________________\n",
      "dense (Dense)                (None, 500)               250500    \n",
      "_________________________________________________________________\n",
      "dense_1 (Dense)              (None, 10)                5010      \n",
      "=================================================================\n",
      "Total params: 259,330\n",
      "Trainable params: 259,330\n",
      "Non-trainable params: 0\n",
      "_________________________________________________________________\n"
     ]
    }
   ],
   "source": [
    "np.random.seed(44)\n",
    "model = tf.keras.Sequential([\n",
    "    # 1st convolution\n",
    "    tf.keras.layers.Conv2D(filters=20, kernel_size=(3,3), activation='relu', input_shape=(28,28,1)),\n",
    "    tf.keras.layers.MaxPool2D(pool_size=(2,2), strides=None, padding='valid'),\n",
    "    # 2nd convolution\n",
    "    tf.keras.layers.Conv2D(filters=20, kernel_size=(3,3), activation='relu'),\n",
    "    tf.keras.layers.MaxPool2D(pool_size=(2,2), strides=None, padding='valid'),\n",
    "    # dense\n",
    "    tf.keras.layers.Flatten(),\n",
    "    tf.keras.layers.Dense(500, activation='relu'),\n",
    "    tf.keras.layers.Dense(10, activation='softmax') \n",
    "])\n",
    "\n",
    "model.compile(optimizer='adam',\n",
    "              loss=tf.keras.losses.SparseCategoricalCrossentropy(from_logits=True),\n",
    "              metrics=['accuracy'])\n",
    "\n",
    "model.summary()"
   ]
  },
  {
   "cell_type": "code",
   "execution_count": 12,
   "metadata": {},
   "outputs": [
    {
     "name": "stdout",
     "output_type": "stream",
     "text": [
      "Epoch 1/5\n",
      "25/25 [==============================] - 1s 42ms/step - loss: 1.2320 - accuracy: 0.7136 - val_loss: 0.1546 - val_accuracy: 0.9475\n",
      "Epoch 2/5\n",
      "25/25 [==============================] - 0s 16ms/step - loss: 0.1362 - accuracy: 0.9485 - val_loss: 0.0892 - val_accuracy: 0.9650\n",
      "Epoch 3/5\n",
      "25/25 [==============================] - 0s 14ms/step - loss: 0.0863 - accuracy: 0.9704 - val_loss: 0.0656 - val_accuracy: 0.9725\n",
      "Epoch 4/5\n",
      "25/25 [==============================] - 0s 14ms/step - loss: 0.0640 - accuracy: 0.9767 - val_loss: 0.0731 - val_accuracy: 0.9812\n",
      "Epoch 5/5\n",
      "25/25 [==============================] - 0s 17ms/step - loss: 0.0562 - accuracy: 0.9798 - val_loss: 0.0612 - val_accuracy: 0.9750\n"
     ]
    }
   ],
   "source": [
    "'''Traning the model'''\n",
    "history = model.fit(x_train, y_train, epochs=5, verbose=1,\n",
    "                    validation_data=(x_test, y_test))\n",
    "\n",
    "#(train_x, train_y, epochs=5,validation_data=(valid_x, valid_y))"
   ]
  },
  {
   "cell_type": "code",
   "execution_count": 13,
   "metadata": {},
   "outputs": [
    {
     "data": {
      "text/plain": [
       "<matplotlib.legend.Legend at 0x7fea16a043a0>"
      ]
     },
     "execution_count": 13,
     "metadata": {},
     "output_type": "execute_result"
    },
    {
     "data": {
      "image/png": "[encoded data removed]",
      "text/plain": [
       "<Figure size 1008x360 with 1 Axes>"
      ]
     },
     "metadata": {
      "needs_background": "light"
     },
     "output_type": "display_data"
    }
   ],
   "source": [
    "'''Plot loss trajectory throughout training'''\n",
    "plt.figure(1, figsize=(14,5))\n",
    "plt.subplot(1,2,1)\n",
    "plt.plot(history.history['loss'], label='train')\n",
    "plt.plot(history.history['val_loss'], label='valid')\n",
    "plt.xlabel('Epoch')\n",
    "plt.ylabel('Cross-Entropy Loss')\n",
    "plt.legend()"
   ]
  },
  {
   "cell_type": "code",
   "execution_count": 14,
   "metadata": {},
   "outputs": [
    {
     "name": "stdout",
     "output_type": "stream",
     "text": [
      "Test cross-entropy loss: 0.06118\n",
      "Test accuracy: 0.98\n"
     ]
    }
   ],
   "source": [
    "score = model.evaluate(x_test, y_test, verbose=0)\n",
    "print('Test cross-entropy loss: %0.5f' % score[0])\n",
    "print('Test accuracy: %0.2f' % score[1])"
   ]
  },
  {
   "cell_type": "markdown",
   "metadata": {},
   "source": [
    "# FGSM"
   ]
  },
  {
   "cell_type": "code",
   "execution_count": 15,
   "metadata": {},
   "outputs": [],
   "source": [
    "import numpy as np\n",
    "import tensorflow as tf\n",
    "#import tensorflow_datasets as tfds\n",
    "from absl import app, flags\n",
    "from easydict import EasyDict\n",
    "from tensorflow.keras import Model\n",
    "from tensorflow.keras.layers import Dense, Dropout, Flatten, Conv2D\n",
    "\n",
    "from cleverhans.tf2.attacks.projected_gradient_descent import projected_gradient_descent\n",
    "from cleverhans.tf2.attacks.fast_gradient_method import fast_gradient_method"
   ]
  },
  {
   "cell_type": "code",
   "execution_count": 16,
   "metadata": {},
   "outputs": [],
   "source": [
    "original_image = x_test\n",
    "original_image = tf.convert_to_tensor(original_image.reshape((800,28,28,1)))\n",
    "\n",
    "original_label = y_test\n",
    "original_label = np.reshape(original_label, (800,)).astype('int64') "
   ]
  },
  {
   "cell_type": "code",
   "execution_count": 17,
   "metadata": {},
   "outputs": [],
   "source": [
    "logits_model = tf.keras.Model(model.input,model.layers[-1].output)"
   ]
  },
  {
   "cell_type": "code",
   "execution_count": 18,
   "metadata": {},
   "outputs": [
    {
     "data": {
      "text/plain": [
       "dtype('float64')"
      ]
     },
     "execution_count": 18,
     "metadata": {},
     "output_type": "execute_result"
    }
   ],
   "source": [
    "x_test[1,:,:,:].dtype"
   ]
  },
  {
   "cell_type": "markdown",
   "metadata": {},
   "source": [
    "# epsilon = 0.06"
   ]
  },
  {
   "cell_type": "code",
   "execution_count": 19,
   "metadata": {},
   "outputs": [],
   "source": [
    "epsilon  = 0.06\n",
    "adv_fgsm_x = fast_gradient_method(logits_model, original_image, epsilon, norm=np.inf, targeted=False)"
   ]
  },
  {
   "cell_type": "code",
   "execution_count": 20,
   "metadata": {},
   "outputs": [],
   "source": [
    "epsilon  = 0.06\n",
    "adv_fgsm_x2 = fast_gradient_method(logits_model, original_image, epsilon, norm=2, targeted=False)"
   ]
  },
  {
   "cell_type": "code",
   "execution_count": 21,
   "metadata": {},
   "outputs": [
    {
     "data": {
      "image/png": "[encoded data removed]",
      "text/plain": [
       "<Figure size 432x288 with 1 Axes>"
      ]
     },
     "metadata": {
      "needs_background": "light"
     },
     "output_type": "display_data"
    },
    {
     "name": "stdout",
     "output_type": "stream",
     "text": [
      "Test cross-entropy loss: 0.24905\n",
      "Test accuracy: 0.89\n"
     ]
    }
   ],
   "source": [
    "plt.figure()\n",
    "plt.imshow(adv_fgsm_x2[0])  \n",
    "plt.show()\n",
    "'''Score on adversarial examples'''\n",
    "score = model.evaluate(adv_fgsm_x, original_label, verbose=0)\n",
    "print('Test cross-entropy loss: %0.5f' % score[0])\n",
    "print('Test accuracy: %0.2f' % score[1])"
   ]
  },
  {
   "cell_type": "code",
   "execution_count": 22,
   "metadata": {},
   "outputs": [
    {
     "data": {
      "text/plain": [
       "TensorShape([800, 28, 28, 1])"
      ]
     },
     "execution_count": 22,
     "metadata": {},
     "output_type": "execute_result"
    }
   ],
   "source": [
    "adv_fgsm_x.shape"
   ]
  },
  {
   "cell_type": "code",
   "execution_count": 23,
   "metadata": {},
   "outputs": [
    {
     "data": {
      "image/png": "[encoded data removed]",
      "text/plain": [
       "<Figure size 432x288 with 1 Axes>"
      ]
     },
     "metadata": {
      "needs_background": "light"
     },
     "output_type": "display_data"
    },
    {
     "name": "stdout",
     "output_type": "stream",
     "text": [
      "Test cross-entropy loss: 0.24905\n",
      "Test accuracy: 0.89\n"
     ]
    }
   ],
   "source": [
    "plt.figure()\n",
    "plt.imshow(adv_fgsm_x[0])  \n",
    "plt.show()\n",
    "'''Score on adversarial examples'''\n",
    "score = model.evaluate(adv_fgsm_x, original_label, verbose=0)\n",
    "print('Test cross-entropy loss: %0.5f' % score[0])\n",
    "print('Test accuracy: %0.2f' % score[1])"
   ]
  },
  {
   "cell_type": "code",
   "execution_count": 24,
   "metadata": {},
   "outputs": [
    {
     "data": {
      "image/png": "[encoded data removed]",
      "text/plain": [
       "<Figure size 432x288 with 1 Axes>"
      ]
     },
     "metadata": {
      "needs_background": "light"
     },
     "output_type": "display_data"
    },
    {
     "name": "stdout",
     "output_type": "stream",
     "text": [
      "Test cross-entropy loss: 0.06118\n",
      "Test accuracy: 0.98\n"
     ]
    }
   ],
   "source": [
    "plt.figure()\n",
    "plt.imshow(x_test[0])  \n",
    "plt.show()\n",
    "'''Score on original data'''\n",
    "score = model.evaluate(x_test, original_label, verbose=0)\n",
    "print('Test cross-entropy loss: %0.5f' % score[0])\n",
    "print('Test accuracy: %0.2f' % score[1])"
   ]
  },
  {
   "cell_type": "markdown",
   "metadata": {},
   "source": [
    "# epsilon = 0.2"
   ]
  },
  {
   "cell_type": "code",
   "execution_count": 25,
   "metadata": {},
   "outputs": [
    {
     "data": {
      "image/png": "[encoded data removed]",
      "text/plain": [
       "<Figure size 432x288 with 1 Axes>"
      ]
     },
     "metadata": {
      "needs_background": "light"
     },
     "output_type": "display_data"
    },
    {
     "name": "stdout",
     "output_type": "stream",
     "text": [
      "Test cross-entropy loss: 2.52845\n",
      "Test accuracy: 0.15\n"
     ]
    }
   ],
   "source": [
    "epsilon  = 0.2\n",
    "adv_fgsm_x = fast_gradient_method(logits_model, original_image, epsilon, norm=np.inf, targeted=False)\n",
    "plt.figure()\n",
    "plt.imshow(adv_fgsm_x[0])  \n",
    "plt.show()\n",
    "'''Score on adversarial examples'''\n",
    "score = model.evaluate(adv_fgsm_x, original_label, verbose=0)\n",
    "print('Test cross-entropy loss: %0.5f' % score[0])\n",
    "print('Test accuracy: %0.2f' % score[1])"
   ]
  },
  {
   "cell_type": "code",
   "execution_count": 26,
   "metadata": {},
   "outputs": [
    {
     "data": {
      "image/png": "[encoded data removed]",
      "text/plain": [
       "<Figure size 432x288 with 1 Axes>"
      ]
     },
     "metadata": {
      "needs_background": "light"
     },
     "output_type": "display_data"
    },
    {
     "name": "stdout",
     "output_type": "stream",
     "text": [
      "Test cross-entropy loss: 0.06118\n",
      "Test accuracy: 0.98\n"
     ]
    }
   ],
   "source": [
    "plt.figure()\n",
    "plt.imshow(x_test[0])  \n",
    "plt.show()\n",
    "'''Score on adversarial examples'''\n",
    "score = model.evaluate(x_test, original_label, verbose=0)\n",
    "print('Test cross-entropy loss: %0.5f' % score[0])\n",
    "print('Test accuracy: %0.2f' % score[1])"
   ]
  },
  {
   "cell_type": "code",
   "execution_count": null,
   "metadata": {},
   "outputs": [],
   "source": []
  }
 ],
 "metadata": {
  "kernelspec": {
   "display_name": "Python 3",
   "language": "python",
   "name": "python3"
  },
  "language_info": {
   "codemirror_mode": {
    "name": "ipython",
    "version": 3
   },
   "file_extension": ".py",
   "mimetype": "text/x-python",
   "name": "python",
   "nbconvert_exporter": "python",
   "pygments_lexer": "ipython3",
   "version": "3.8.5"
  }
 },
 "nbformat": 4,
 "nbformat_minor": 4
}
