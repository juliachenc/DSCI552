{
 "cells": [
  {
   "cell_type": "code",
   "execution_count": 1,
   "metadata": {},
   "outputs": [],
   "source": [
    "from art.utils import load_dataset\n",
    "from art.classifiers import TensorFlowV2Classifier\n",
    "from art.attacks.evasion import FastGradientMethod\n",
    "from art.defences.trainer import AdversarialTrainer\n",
    "from art.metrics import empirical_robustness\n",
    "\n",
    "import numpy as np\n",
    "import tensorflow as tf\n",
    "import matplotlib as mpl\n",
    "import matplotlib.pyplot as plt\n",
    "\n",
    "from keras.models import Sequential\n",
    "from keras.layers import Dense, Flatten, Conv2D, MaxPooling2D, Dropout"
   ]
  },
  {
   "cell_type": "markdown",
   "metadata": {},
   "source": [
    "# Loading hand writing dataset"
   ]
  },
  {
   "cell_type": "code",
   "execution_count": 2,
   "metadata": {},
   "outputs": [],
   "source": [
    "def exract_two_classes( data, labels, classes=(0,1), no_instance=10000):\n",
    "    data_zeroes = data[ np.argwhere( labels ==  classes[0] ).reshape( -1 ) ][ :no_instance ]\n",
    "    data_ones = data[ np.argwhere( labels == classes[1] ).reshape( -1 ) ][ :no_instance ]\n",
    "    x = np.vstack( (data_zeroes, data_ones) )\n",
    "    \n",
    "    # normalize the data\n",
    "    x = x / 255.\n",
    "\n",
    "    labels_zeroes = np.zeros( data_zeroes.shape[ 0 ] )\n",
    "    labels_ones = np.ones( data_ones.shape[ 0 ] )\n",
    "    y = np.append( labels_zeroes, labels_ones )\n",
    "\n",
    "    return x, y"
   ]
  },
  {
   "cell_type": "code",
   "execution_count": 3,
   "metadata": {},
   "outputs": [],
   "source": [
    "mnist = tf.keras.datasets.mnist # Object of the MNIST dataset\n",
    "(x_train, y_train),(x_test, y_test) = mnist.load_data() # Load data\n",
    "\n",
    "# extract ones and zeroes\n",
    "x_train, y_train = exract_two_classes( x_train, y_train )\n",
    "x_test, y_test = exract_two_classes( x_test, y_test )"
   ]
  },
  {
   "cell_type": "code",
   "execution_count": 4,
   "metadata": {},
   "outputs": [],
   "source": [
    "x_train = np.array(x_train).astype(\"float\")\n",
    "y_train = np.array(y_train).astype(\"float\")\n",
    "x_test = np.array(x_test).astype(\"float\")\n",
    "y_test = np.array(y_test).astype(\"float\")"
   ]
  },
  {
   "cell_type": "code",
   "execution_count": 5,
   "metadata": {},
   "outputs": [
    {
     "name": "stdout",
     "output_type": "stream",
     "text": [
      "Lengh of dimensions for x_train:  (12665, 28, 28)\n",
      "Lengh of dimensions for y_train:  (12665,)\n",
      "Lengh of dimensions for x_test:  (2115, 28, 28)\n",
      "Lengh of dimensions for y_test:  (2115,)\n"
     ]
    }
   ],
   "source": [
    "print(\"Lengh of dimensions for x_train: \", x_train.shape)\n",
    "print(\"Lengh of dimensions for y_train: \", y_train.shape)\n",
    "print(\"Lengh of dimensions for x_test: \", x_test.shape)\n",
    "print(\"Lengh of dimensions for y_test: \", y_test.shape)"
   ]
  },
  {
   "cell_type": "code",
   "execution_count": 6,
   "metadata": {},
   "outputs": [],
   "source": [
    "'''reshape'''\n",
    "x_train = x_train.reshape(-1,28,28,1)\n",
    "x_test = x_test.reshape(-1,28,28,1)"
   ]
  },
  {
   "cell_type": "code",
   "execution_count": 7,
   "metadata": {},
   "outputs": [
    {
     "data": {
      "image/png": "[encoded data removed]",
      "text/plain": [
       "<Figure size 720x360 with 10 Axes>"
      ]
     },
     "metadata": {
      "needs_background": "light"
     },
     "output_type": "display_data"
    }
   ],
   "source": [
    "n_classes = 2\n",
    "inds=np.array([y_train==i for i in range(n_classes)])\n",
    "f,ax=plt.subplots(2,5,figsize=(10,5))\n",
    "ax=ax.flatten()\n",
    "for i in range(n_classes):\n",
    "    ax[i].imshow(x_train[np.argmax(inds[i])].reshape(28,28))\n",
    "    ax[i].set_title(str(i))\n",
    "plt.show()"
   ]
  },
  {
   "cell_type": "markdown",
   "metadata": {},
   "source": [
    "# Simple fully-connected neural network with 2 hidden layers"
   ]
  },
  {
   "cell_type": "code",
   "execution_count": 8,
   "metadata": {},
   "outputs": [
    {
     "name": "stdout",
     "output_type": "stream",
     "text": [
      "Model: \"sequential\"\n",
      "_________________________________________________________________\n",
      "Layer (type)                 Output Shape              Param #   \n",
      "=================================================================\n",
      "conv2d (Conv2D)              (None, 26, 26, 20)        200       \n",
      "_________________________________________________________________\n",
      "max_pooling2d (MaxPooling2D) (None, 13, 13, 20)        0         \n",
      "_________________________________________________________________\n",
      "conv2d_1 (Conv2D)            (None, 11, 11, 20)        3620      \n",
      "_________________________________________________________________\n",
      "max_pooling2d_1 (MaxPooling2 (None, 5, 5, 20)          0         \n",
      "_________________________________________________________________\n",
      "flatten (Flatten)            (None, 500)               0         \n",
      "_________________________________________________________________\n",
      "dense (Dense)                (None, 500)               250500    \n",
      "_________________________________________________________________\n",
      "dense_1 (Dense)              (None, 2)                 1002      \n",
      "=================================================================\n",
      "Total params: 255,322\n",
      "Trainable params: 255,322\n",
      "Non-trainable params: 0\n",
      "_________________________________________________________________\n"
     ]
    }
   ],
   "source": [
    "np.random.seed(44)\n",
    "model = tf.keras.Sequential([\n",
    "    # 1st convolution\n",
    "    tf.keras.layers.Conv2D(filters=20, kernel_size=(3,3), activation='relu', input_shape=(28,28,1)),\n",
    "    tf.keras.layers.MaxPool2D(pool_size=(2,2), strides=None, padding='valid'),\n",
    "    # 2nd convolution\n",
    "    tf.keras.layers.Conv2D(filters=20, kernel_size=(3,3), activation='relu'),\n",
    "    tf.keras.layers.MaxPool2D(pool_size=(2,2), strides=None, padding='valid'),\n",
    "    # dense\n",
    "    tf.keras.layers.Flatten(),\n",
    "    tf.keras.layers.Dense(500, activation='relu'),\n",
    "    tf.keras.layers.Dense(2, activation='softmax') \n",
    "])\n",
    "\n",
    "loss_object = tf.keras.losses.SparseCategoricalCrossentropy(from_logits=True)\n",
    "model.compile(optimizer='adam',\n",
    "              loss=loss_object,\n",
    "              metrics=['accuracy'])\n",
    "\n",
    "model.summary()"
   ]
  },
  {
   "cell_type": "code",
   "execution_count": 9,
   "metadata": {},
   "outputs": [
    {
     "name": "stdout",
     "output_type": "stream",
     "text": [
      "Epoch 1/5\n",
      "396/396 [==============================] - 5s 13ms/step - loss: 0.0491 - accuracy: 0.9810 - val_loss: 0.0026 - val_accuracy: 0.9991\n",
      "Epoch 2/5\n",
      "396/396 [==============================] - 4s 10ms/step - loss: 0.0018 - accuracy: 0.9994 - val_loss: 0.0015 - val_accuracy: 0.9991\n",
      "Epoch 3/5\n",
      "396/396 [==============================] - 4s 11ms/step - loss: 0.0012 - accuracy: 0.9996 - val_loss: 0.0029 - val_accuracy: 0.9991\n",
      "Epoch 4/5\n",
      "396/396 [==============================] - 4s 11ms/step - loss: 3.5030e-04 - accuracy: 0.9999 - val_loss: 9.6402e-04 - val_accuracy: 0.9995\n",
      "Epoch 5/5\n",
      "396/396 [==============================] - 4s 11ms/step - loss: 0.0018 - accuracy: 0.9989 - val_loss: 0.0035 - val_accuracy: 0.9991\n"
     ]
    }
   ],
   "source": [
    "'''Traning the model'''\n",
    "history = model.fit(x_train, y_train, epochs=5, verbose=1,\n",
    "                    validation_data=(x_test, y_test))\n",
    "\n",
    "#(train_x, train_y, epochs=5,validation_data=(valid_x, valid_y))"
   ]
  },
  {
   "cell_type": "code",
   "execution_count": 10,
   "metadata": {
    "scrolled": true
   },
   "outputs": [
    {
     "data": {
      "text/plain": [
       "<matplotlib.legend.Legend at 0x7fc253924100>"
      ]
     },
     "execution_count": 10,
     "metadata": {},
     "output_type": "execute_result"
    },
    {
     "data": {
      "image/png": "[encoded data removed]",
      "text/plain": [
       "<Figure size 1008x360 with 1 Axes>"
      ]
     },
     "metadata": {
      "needs_background": "light"
     },
     "output_type": "display_data"
    }
   ],
   "source": [
    "'''Plot loss trajectory throughout training'''\n",
    "plt.figure(1, figsize=(14,5))\n",
    "plt.subplot(1,2,1)\n",
    "plt.plot(history.history['loss'], label='train')\n",
    "plt.plot(history.history['val_loss'], label='valid')\n",
    "plt.xlabel('Epoch')\n",
    "plt.ylabel('Cross-Entropy Loss')\n",
    "plt.legend()"
   ]
  },
  {
   "cell_type": "code",
   "execution_count": 11,
   "metadata": {
    "scrolled": true
   },
   "outputs": [
    {
     "name": "stdout",
     "output_type": "stream",
     "text": [
      "Test cross-entropy loss: 0.00348\n",
      "Test accuracy: 0.99905\n"
     ]
    },
    {
     "data": {
      "image/png": "[encoded data removed]",
      "text/plain": [
       "<Figure size 432x288 with 1 Axes>"
      ]
     },
     "metadata": {
      "needs_background": "light"
     },
     "output_type": "display_data"
    }
   ],
   "source": [
    "'''Score on original data'''\n",
    "score = model.evaluate(x_test, y_test, verbose=0)\n",
    "print('Test cross-entropy loss: %0.5f' % score[0])\n",
    "print('Test accuracy: %0.5f' % score[1])\n",
    "plt.figure()\n",
    "plt.imshow(x_test[0])  \n",
    "plt.show()"
   ]
  },
  {
   "cell_type": "markdown",
   "metadata": {},
   "source": [
    "# FGSM L inf attack  "
   ]
  },
  {
   "cell_type": "code",
   "execution_count": 13,
   "metadata": {},
   "outputs": [
    {
     "name": "stdout",
     "output_type": "stream",
     "text": [
      "robustness of the undefended model 0.1689326334208225\n"
     ]
    }
   ],
   "source": [
    "'''wrap the model an calculte emperical robustnees'''\n",
    "classifier = TensorFlowV2Classifier(model=model, nb_classes=2, input_shape=(28,28,1),\n",
    "                                   loss_object = loss_object, clip_values=(0, 1))\n",
    "print('robustness of the undefended model', \n",
    "      empirical_robustness(classifier, x_test, 'fgsm', {}))"
   ]
  },
  {
   "cell_type": "code",
   "execution_count": 14,
   "metadata": {},
   "outputs": [],
   "source": [
    "#eps_list=np.arange(0.3, 0.6, 0.01)\n",
    "#acc=np.zeros(eps_list.size)\n",
    "#for i in range(eps_list.size):\n",
    "#    '''\n",
    "#    creat adversial examples using build in FastGradientMethod from ART\n",
    "#    also predict based on the current  adversial examples\n",
    "#    '''\n",
    "#\n",
    "#    adv_fgsm_model = FastGradientMethod(classifier, norm=np.inf, eps=eps_list[i], targeted=False)\n",
    "#    adv_fgsm_x = adv_fgsm_model.generate(x=x_test)\n",
    "#    prediction_x = classifier.predict(x=adv_fgsm_x)\n",
    "#    acc[i]=classifier._model.evaluate(adv_fgsm_x, y_test)[1]\n",
    "#    print(eps_list[i])"
   ]
  },
  {
   "cell_type": "code",
   "execution_count": 86,
   "metadata": {},
   "outputs": [],
   "source": [
    "eps = 1\n",
    "adv_fgsm_model = FastGradientMethod(classifier, norm=np.inf, eps=eps, targeted=False)\n",
    "adv_fgsm_x = adv_fgsm_model.generate(x=x_test)\n",
    "prediction_x = classifier.predict(x=adv_fgsm_x)"
   ]
  },
  {
   "cell_type": "code",
   "execution_count": 87,
   "metadata": {},
   "outputs": [
    {
     "name": "stdout",
     "output_type": "stream",
     "text": [
      "accuracy on adversarial examples:\n",
      "67/67 [==============================] - 0s 3ms/step - loss: 1.0348 - accuracy: 0.7887\n",
      "0.7886524796485901\n"
     ]
    }
   ],
   "source": [
    "# print('class prediction for the adversarial sample:',classifier.predict(adv_fgsm_x))\n",
    "print('accuracy on adversarial examples:' )\n",
    "print(classifier._model.evaluate(adv_fgsm_x, y_test)[1])"
   ]
  },
  {
   "cell_type": "code",
   "execution_count": 88,
   "metadata": {},
   "outputs": [
    {
     "name": "stdout",
     "output_type": "stream",
     "text": [
      "Test cross-entropy loss: 1.03483\n",
      "Test accuracy: 0.78865\n"
     ]
    },
    {
     "data": {
      "image/png": "[encoded data removed]",
      "text/plain": [
       "<Figure size 432x288 with 1 Axes>"
      ]
     },
     "metadata": {
      "needs_background": "light"
     },
     "output_type": "display_data"
    }
   ],
   "source": [
    "'''Score on adversarial examples'''\n",
    "score = model.evaluate(adv_fgsm_x, y_test, verbose=0)\n",
    "print('Test cross-entropy loss: %0.5f' % score[0])\n",
    "print('Test accuracy: %0.5f' % score[1])\n",
    "plt.figure()\n",
    "plt.imshow(adv_fgsm_x[0])  \n",
    "plt.show()"
   ]
  },
  {
   "cell_type": "markdown",
   "metadata": {},
   "source": [
    "# Building defense model, adversarial traning"
   ]
  },
  {
   "cell_type": "code",
   "execution_count": 89,
   "metadata": {},
   "outputs": [],
   "source": [
    "optimizer = tf.keras.optimizers.Adam(learning_rate=0.01)\n",
    "def train_step(model, images, labels):\n",
    "    with tf.GradientTape() as tape:\n",
    "        predictions = model(images, training=True)\n",
    "        loss = loss_object(labels, predictions)\n",
    "    gradients = tape.gradient(loss, model.trainable_variables)\n",
    "    optimizer.apply_gradients(zip(gradients, model.trainable_variables))\n"
   ]
  },
  {
   "cell_type": "code",
   "execution_count": 90,
   "metadata": {},
   "outputs": [],
   "source": [
    "'''creat a new untrained model and wrap it'''\n",
    "new_model = model\n",
    "new_model = TensorFlowV2Classifier(model=new_model,nb_classes=2, input_shape=(28,28,1),\n",
    "                                  loss_object = loss_object, train_step=train_step)\n",
    "#new_model = art.estimators.classification.KerasClassifier(model=new_model)\n",
    "\n",
    "\n",
    "'''recall the attack model'''\n",
    "adv_fgsm_model = FastGradientMethod(classifier, norm=np.inf, eps=eps, targeted=False)\n"
   ]
  },
  {
   "cell_type": "code",
   "execution_count": 99,
   "metadata": {},
   "outputs": [],
   "source": [
    "'''recall the wrap model'''\n",
    "#classifier=TensorFlowV2Classifier(model=model, nb_classes=10, input_shape=(1,28,28,1), \n",
    "#                       loss_object = loss_object, train_step=(model, x_train, y_train))\n",
    "\n",
    "\n",
    "#classifier = art.estimators.classification.KerasClassifier(model=new_model)\n",
    "\n",
    "\n",
    "#tf.compat.v1.disable_eager_execution()\n",
    "#classifier = TensorFlowV2Classifier(clip_values=(0,1), model=model )\n",
    "\n",
    "'''define the attack we are using'''\n",
    "adversarial_tranier = AdversarialTrainer(new_model, adv_fgsm_model, ratio = 0.5)"
   ]
  },
  {
   "cell_type": "code",
   "execution_count": 100,
   "metadata": {},
   "outputs": [
    {
     "data": {
      "application/vnd.jupyter.widget-view+json": {
       "model_id": "278db6104d1a42b988472eb939f8ddef",
       "version_major": 2,
       "version_minor": 0
      },
      "text/plain": [
       "HBox(children=(HTML(value='Precompute adv samples'), FloatProgress(value=0.0, max=1.0), HTML(value='')))"
      ]
     },
     "metadata": {},
     "output_type": "display_data"
    },
    {
     "name": "stdout",
     "output_type": "stream",
     "text": [
      "\n"
     ]
    },
    {
     "data": {
      "application/vnd.jupyter.widget-view+json": {
       "model_id": "eeedcb1776b64953b5847cf218393da0",
       "version_major": 2,
       "version_minor": 0
      },
      "text/plain": [
       "HBox(children=(HTML(value='Adversarial training epochs'), FloatProgress(value=0.0, max=5.0), HTML(value='')))"
      ]
     },
     "metadata": {},
     "output_type": "display_data"
    },
    {
     "name": "stdout",
     "output_type": "stream",
     "text": [
      "\n"
     ]
    }
   ],
   "source": [
    "'''fitting the defence model'''\n",
    "hi=adversarial_tranier.fit(x_train, y_train, batch_size=100, nb_epochs=5)\n"
   ]
  },
  {
   "cell_type": "code",
   "execution_count": 101,
   "metadata": {},
   "outputs": [
    {
     "name": "stdout",
     "output_type": "stream",
     "text": [
      "Test cross-entropy loss: 0.00253\n",
      "Test accuracy: 0.99953\n"
     ]
    },
    {
     "data": {
      "image/png": "[encoded data removed]",
      "text/plain": [
       "<Figure size 432x288 with 1 Axes>"
      ]
     },
     "metadata": {
      "needs_background": "light"
     },
     "output_type": "display_data"
    }
   ],
   "source": [
    "'''Score on adversarial examples'''\n",
    "score = new_model._model.evaluate(x_test, y_test, verbose=0)\n",
    "print('Test cross-entropy loss: %0.5f' % score[0])\n",
    "print('Test accuracy: %0.5f' % score[1])\n",
    "plt.figure()\n",
    "plt.imshow(adv_fgsm_x[0])  \n",
    "plt.show()"
   ]
  },
  {
   "cell_type": "code",
   "execution_count": 102,
   "metadata": {},
   "outputs": [
    {
     "name": "stdout",
     "output_type": "stream",
     "text": [
      "accuracy on adversarial examples:\n",
      "67/67 [==============================] - 0s 3ms/step - loss: 0.1825 - accuracy: 0.9452\n",
      "0.9451536536216736\n"
     ]
    }
   ],
   "source": [
    "# print('class prediction for the adversarial sample:',classifier.predict(adv_fgsm_x))\n",
    "print('accuracy on adversarial examples:' )\n",
    "print(new_model._model.evaluate(adv_fgsm_x, y_test)[ 1 ] )"
   ]
  },
  {
   "cell_type": "markdown",
   "metadata": {},
   "source": [
    "# ----------------------------------"
   ]
  },
  {
   "cell_type": "code",
   "execution_count": 108,
   "metadata": {},
   "outputs": [
    {
     "data": {
      "application/vnd.jupyter.widget-view+json": {
       "model_id": "6f15939e6e0a4ffa93cedd5aba42706b",
       "version_major": 2,
       "version_minor": 0
      },
      "text/plain": [
       "HBox(children=(HTML(value='Precompute adv samples'), FloatProgress(value=0.0, max=1.0), HTML(value='')))"
      ]
     },
     "metadata": {},
     "output_type": "display_data"
    },
    {
     "name": "stdout",
     "output_type": "stream",
     "text": [
      "\n"
     ]
    },
    {
     "data": {
      "application/vnd.jupyter.widget-view+json": {
       "model_id": "c198e4ba00fb40e5820008cbe9e1a19b",
       "version_major": 2,
       "version_minor": 0
      },
      "text/plain": [
       "HBox(children=(HTML(value='Adversarial training epochs'), FloatProgress(value=0.0, max=5.0), HTML(value='')))"
      ]
     },
     "metadata": {},
     "output_type": "display_data"
    },
    {
     "name": "stdout",
     "output_type": "stream",
     "text": [
      "\n",
      "67/67 [==============================] - 0s 3ms/step - loss: 0.5116 - accuracy: 0.8548\n",
      "0.8548463582992554\n",
      "67/67 [==============================] - 0s 3ms/step - loss: 0.5116 - accuracy: 0.8548\n"
     ]
    },
    {
     "data": {
      "application/vnd.jupyter.widget-view+json": {
       "model_id": "53f2eed749d3425e8f5ccac49f59f05e",
       "version_major": 2,
       "version_minor": 0
      },
      "text/plain": [
       "HBox(children=(HTML(value='Precompute adv samples'), FloatProgress(value=0.0, max=1.0), HTML(value='')))"
      ]
     },
     "metadata": {},
     "output_type": "display_data"
    },
    {
     "name": "stdout",
     "output_type": "stream",
     "text": [
      "\n"
     ]
    },
    {
     "data": {
      "application/vnd.jupyter.widget-view+json": {
       "model_id": "d06ec1f9ec8348db9b5cc5d367dcf4a3",
       "version_major": 2,
       "version_minor": 0
      },
      "text/plain": [
       "HBox(children=(HTML(value='Adversarial training epochs'), FloatProgress(value=0.0, max=5.0), HTML(value='')))"
      ]
     },
     "metadata": {},
     "output_type": "display_data"
    },
    {
     "name": "stdout",
     "output_type": "stream",
     "text": [
      "\n",
      "67/67 [==============================] - 0s 3ms/step - loss: 0.8097 - accuracy: 0.7196\n",
      "0.7196217775344849\n",
      "67/67 [==============================] - 0s 3ms/step - loss: 0.8097 - accuracy: 0.7196\n"
     ]
    },
    {
     "data": {
      "application/vnd.jupyter.widget-view+json": {
       "model_id": "8c54f06263f242659cf4660d8477b77c",
       "version_major": 2,
       "version_minor": 0
      },
      "text/plain": [
       "HBox(children=(HTML(value='Precompute adv samples'), FloatProgress(value=0.0, max=1.0), HTML(value='')))"
      ]
     },
     "metadata": {},
     "output_type": "display_data"
    },
    {
     "name": "stdout",
     "output_type": "stream",
     "text": [
      "\n"
     ]
    },
    {
     "data": {
      "application/vnd.jupyter.widget-view+json": {
       "model_id": "d851a7f584e64522a51fa1063ef512db",
       "version_major": 2,
       "version_minor": 0
      },
      "text/plain": [
       "HBox(children=(HTML(value='Adversarial training epochs'), FloatProgress(value=0.0, max=5.0), HTML(value='')))"
      ]
     },
     "metadata": {},
     "output_type": "display_data"
    },
    {
     "name": "stdout",
     "output_type": "stream",
     "text": [
      "\n",
      "67/67 [==============================] - 0s 3ms/step - loss: 0.5659 - accuracy: 0.8307\n",
      "0.8307328820228577\n",
      "67/67 [==============================] - 0s 3ms/step - loss: 0.5659 - accuracy: 0.8307\n"
     ]
    },
    {
     "data": {
      "application/vnd.jupyter.widget-view+json": {
       "model_id": "ea0d1e087c9543d2b6ebb70f02512921",
       "version_major": 2,
       "version_minor": 0
      },
      "text/plain": [
       "HBox(children=(HTML(value='Precompute adv samples'), FloatProgress(value=0.0, max=1.0), HTML(value='')))"
      ]
     },
     "metadata": {},
     "output_type": "display_data"
    },
    {
     "name": "stdout",
     "output_type": "stream",
     "text": [
      "\n"
     ]
    },
    {
     "data": {
      "application/vnd.jupyter.widget-view+json": {
       "model_id": "28e36d8e32954718ac6f8957b3dba1eb",
       "version_major": 2,
       "version_minor": 0
      },
      "text/plain": [
       "HBox(children=(HTML(value='Adversarial training epochs'), FloatProgress(value=0.0, max=5.0), HTML(value='')))"
      ]
     },
     "metadata": {},
     "output_type": "display_data"
    },
    {
     "name": "stdout",
     "output_type": "stream",
     "text": [
      "\n",
      "67/67 [==============================] - 0s 3ms/step - loss: 0.0639 - accuracy: 0.9759\n",
      "0.9758865237236023\n",
      "67/67 [==============================] - 0s 3ms/step - loss: 0.0639 - accuracy: 0.9759\n"
     ]
    },
    {
     "data": {
      "application/vnd.jupyter.widget-view+json": {
       "model_id": "d75c749662f844eeb8ca4d9e86bb451d",
       "version_major": 2,
       "version_minor": 0
      },
      "text/plain": [
       "HBox(children=(HTML(value='Precompute adv samples'), FloatProgress(value=0.0, max=1.0), HTML(value='')))"
      ]
     },
     "metadata": {},
     "output_type": "display_data"
    },
    {
     "name": "stdout",
     "output_type": "stream",
     "text": [
      "\n"
     ]
    },
    {
     "data": {
      "application/vnd.jupyter.widget-view+json": {
       "model_id": "e93ab582a3a447b59307b89143c7bb4a",
       "version_major": 2,
       "version_minor": 0
      },
      "text/plain": [
       "HBox(children=(HTML(value='Adversarial training epochs'), FloatProgress(value=0.0, max=5.0), HTML(value='')))"
      ]
     },
     "metadata": {},
     "output_type": "display_data"
    },
    {
     "name": "stdout",
     "output_type": "stream",
     "text": [
      "\n",
      "67/67 [==============================] - 0s 3ms/step - loss: 0.5393 - accuracy: 0.8255\n",
      "0.8255318999290466\n",
      "67/67 [==============================] - 0s 3ms/step - loss: 0.5393 - accuracy: 0.8255\n"
     ]
    },
    {
     "data": {
      "application/vnd.jupyter.widget-view+json": {
       "model_id": "58c9453794b044bc8497502e655177bc",
       "version_major": 2,
       "version_minor": 0
      },
      "text/plain": [
       "HBox(children=(HTML(value='Precompute adv samples'), FloatProgress(value=0.0, max=1.0), HTML(value='')))"
      ]
     },
     "metadata": {},
     "output_type": "display_data"
    },
    {
     "name": "stdout",
     "output_type": "stream",
     "text": [
      "\n"
     ]
    },
    {
     "data": {
      "application/vnd.jupyter.widget-view+json": {
       "model_id": "27d1da767dc9423781b12f755143d974",
       "version_major": 2,
       "version_minor": 0
      },
      "text/plain": [
       "HBox(children=(HTML(value='Adversarial training epochs'), FloatProgress(value=0.0, max=5.0), HTML(value='')))"
      ]
     },
     "metadata": {},
     "output_type": "display_data"
    },
    {
     "name": "stdout",
     "output_type": "stream",
     "text": [
      "\n",
      "67/67 [==============================] - 0s 3ms/step - loss: 0.2874 - accuracy: 0.9272\n",
      "0.9271867871284485\n",
      "67/67 [==============================] - 0s 3ms/step - loss: 0.2874 - accuracy: 0.9272\n"
     ]
    },
    {
     "data": {
      "application/vnd.jupyter.widget-view+json": {
       "model_id": "765eb3b1dcd94666b836902eda9e92d7",
       "version_major": 2,
       "version_minor": 0
      },
      "text/plain": [
       "HBox(children=(HTML(value='Precompute adv samples'), FloatProgress(value=0.0, max=1.0), HTML(value='')))"
      ]
     },
     "metadata": {},
     "output_type": "display_data"
    },
    {
     "name": "stdout",
     "output_type": "stream",
     "text": [
      "\n"
     ]
    },
    {
     "data": {
      "application/vnd.jupyter.widget-view+json": {
       "model_id": "e9314409322a4229a8926c7f6c0e2099",
       "version_major": 2,
       "version_minor": 0
      },
      "text/plain": [
       "HBox(children=(HTML(value='Adversarial training epochs'), FloatProgress(value=0.0, max=5.0), HTML(value='')))"
      ]
     },
     "metadata": {},
     "output_type": "display_data"
    },
    {
     "name": "stdout",
     "output_type": "stream",
     "text": [
      "\n",
      "67/67 [==============================] - 0s 3ms/step - loss: 0.5046 - accuracy: 0.8426\n",
      "0.8425531983375549\n",
      "67/67 [==============================] - 0s 4ms/step - loss: 0.5046 - accuracy: 0.8426\n"
     ]
    },
    {
     "data": {
      "application/vnd.jupyter.widget-view+json": {
       "model_id": "8491a92e1096496b95c4f58a91a3443e",
       "version_major": 2,
       "version_minor": 0
      },
      "text/plain": [
       "HBox(children=(HTML(value='Precompute adv samples'), FloatProgress(value=0.0, max=1.0), HTML(value='')))"
      ]
     },
     "metadata": {},
     "output_type": "display_data"
    },
    {
     "name": "stdout",
     "output_type": "stream",
     "text": [
      "\n"
     ]
    },
    {
     "data": {
      "application/vnd.jupyter.widget-view+json": {
       "model_id": "ff54c1ffa3d34e7784d88d1127bbda03",
       "version_major": 2,
       "version_minor": 0
      },
      "text/plain": [
       "HBox(children=(HTML(value='Adversarial training epochs'), FloatProgress(value=0.0, max=5.0), HTML(value='')))"
      ]
     },
     "metadata": {},
     "output_type": "display_data"
    },
    {
     "name": "stdout",
     "output_type": "stream",
     "text": [
      "\n",
      "67/67 [==============================] - 0s 3ms/step - loss: 0.0270 - accuracy: 0.9910\n",
      "0.9910165667533875\n",
      "67/67 [==============================] - 0s 4ms/step - loss: 0.0270 - accuracy: 0.9910\n"
     ]
    },
    {
     "data": {
      "application/vnd.jupyter.widget-view+json": {
       "model_id": "bf6a4eb0145a4497b268c79b8e2d9d3e",
       "version_major": 2,
       "version_minor": 0
      },
      "text/plain": [
       "HBox(children=(HTML(value='Precompute adv samples'), FloatProgress(value=0.0, max=1.0), HTML(value='')))"
      ]
     },
     "metadata": {},
     "output_type": "display_data"
    },
    {
     "name": "stdout",
     "output_type": "stream",
     "text": [
      "\n"
     ]
    },
    {
     "data": {
      "application/vnd.jupyter.widget-view+json": {
       "model_id": "0c1fb8e185684308aa5fee8b764e914e",
       "version_major": 2,
       "version_minor": 0
      },
      "text/plain": [
       "HBox(children=(HTML(value='Adversarial training epochs'), FloatProgress(value=0.0, max=5.0), HTML(value='')))"
      ]
     },
     "metadata": {},
     "output_type": "display_data"
    },
    {
     "name": "stdout",
     "output_type": "stream",
     "text": [
      "\n",
      "67/67 [==============================] - 0s 3ms/step - loss: 0.6400 - accuracy: 0.8648\n",
      "0.8647754192352295\n",
      "67/67 [==============================] - 0s 4ms/step - loss: 0.6400 - accuracy: 0.8648\n"
     ]
    }
   ],
   "source": [
    "ratio_change = np.arange(0.1, 1, 0.1)\n",
    "acc = []\n",
    "\n",
    "for i in range(len(ratio_change)):\n",
    "    new_model = model\n",
    "    new_model = TensorFlowV2Classifier(model=new_model,nb_classes=2, input_shape=(28,28,1),\n",
    "                                  loss_object = loss_object, train_step=train_step)\n",
    "    adv_fgsm_model = FastGradientMethod(classifier, norm=np.inf, eps=eps, targeted=False)\n",
    "    adversarial_tranier = AdversarialTrainer(new_model, adv_fgsm_model, ratio = ratio_change[i])\n",
    "    hi=adversarial_tranier.fit(x_train, y_train, batch_size=100, nb_epochs=5)\n",
    "    print(new_model._model.evaluate(adv_fgsm_x, y_test)[ 1 ] )\n",
    "    acc= new_model._model.evaluate(adv_fgsm_x, y_test)[ 1 ] \n",
    "    "
   ]
  },
  {
   "cell_type": "code",
   "execution_count": null,
   "metadata": {},
   "outputs": [],
   "source": []
  }
 ],
 "metadata": {
  "kernelspec": {
   "display_name": "Python 3",
   "language": "python",
   "name": "python3"
  },
  "language_info": {
   "codemirror_mode": {
    "name": "ipython",
    "version": 3
   },
   "file_extension": ".py",
   "mimetype": "text/x-python",
   "name": "python",
   "nbconvert_exporter": "python",
   "pygments_lexer": "ipython3",
   "version": "3.8.5"
  }
 },
 "nbformat": 4,
 "nbformat_minor": 4
}
